{
 "cells": [
  {
   "cell_type": "markdown",
   "id": "1c8bdfa1-75fb-4648-a55e-d2ad27dc834e",
   "metadata": {},
   "source": [
    "# Project Title \n",
    "\n",
    "Instagram fake spammer genuine accounts"
   ]
  },
  {
   "cell_type": "markdown",
   "id": "50897640-3b65-4a38-9ff0-c589c41ebc0f",
   "metadata": {},
   "source": [
    "# Goal: \n",
    "Build a classification model to predict whether an Instagram account is fake or genuine based on given features."
   ]
  },
  {
   "cell_type": "markdown",
   "id": "f6f05bfa-4d47-4556-baa8-82b1df5b6794",
   "metadata": {},
   "source": [
    "# Introduction:\n",
    "\n",
    "In this project, I developed a machine learning model to classify Instagram accounts as fake or genuine using a balanced dataset. I performed data cleaning, exploratory data analysis, and feature engineering using attributes such as profile picture availability, username/full name patterns, post count, followers, following, and follower-to-following ratio. I trained models including Random Forest, and Decision Tree evaluated their performance, and selected the best model for accurate fake account detection."
   ]
  },
  {
   "cell_type": "markdown",
   "id": "80133bf1-43cc-43b8-8a01-f84f56605d7e",
   "metadata": {},
   "source": [
    "# Columns Overview:\n",
    "  profile_pic: Binary (1 if the profile has a picture, 0 otherwise).\n",
    "  nums/length username: Number of characters or numbers in the username.\n",
    "  fullname words: Number of words in the full name.\n",
    "  nums/length fullname: Character length and number count in the full name.\n",
    "  name == username: Binary (1 if the username and full name are identical, 0\n",
    "  otherwise).\n",
    "  description length: Character length of the bio/description.\n",
    "  external URL: Binary (1 if an external URL is present, 0 otherwise).● private: Binary (1 if the profile is private, 0 otherwise).\n",
    "  #posts: Number of posts.\n",
    "  #followers: Number of followers.\n",
    "  #follows: Number of accounts followed.\n",
    "  fake: Target label (1 if fake, 0 if genuine)."
   ]
  },
  {
   "cell_type": "markdown",
   "id": "41de3721-a005-41df-bab6-6fc9fc5d122c",
   "metadata": {},
   "source": [
    " # Import Required Libraries"
   ]
  },
  {
   "cell_type": "code",
   "execution_count": 385,
   "id": "52b5a336-2186-4373-94ea-da707dc46241",
   "metadata": {},
   "outputs": [],
   "source": [
    "import pandas as pd\n",
    "import numpy as np\n",
    "import matplotlib.pyplot as plt\n",
    "import seaborn as sns\n",
    "\n",
    "from sklearn.preprocessing import LabelEncoder\n",
    "from sklearn.model_selection import train_test_split\n",
    "from sklearn.ensemble import RandomForestClassifier\n",
    "from sklearn.tree import DecisionTreeClassifier\n",
    "from sklearn.metrics import accuracy_score\n",
    "from sklearn.metrics import confusion_matrix\n",
    "from sklearn.metrics import classification_report\n",
    "from sklearn.metrics import roc_auc_score, roc_curve"
   ]
  },
  {
   "cell_type": "markdown",
   "id": "876600a6-fe59-452e-a552-5fc89fd9ffc5",
   "metadata": {},
   "source": [
    "# Load & Explore the Dataset"
   ]
  },
  {
   "cell_type": "code",
   "execution_count": 388,
   "id": "547c0c9d-db4e-4396-9bc3-d407eadf360f",
   "metadata": {},
   "outputs": [
    {
     "data": {
      "text/html": [
       "<div>\n",
       "<style scoped>\n",
       "    .dataframe tbody tr th:only-of-type {\n",
       "        vertical-align: middle;\n",
       "    }\n",
       "\n",
       "    .dataframe tbody tr th {\n",
       "        vertical-align: top;\n",
       "    }\n",
       "\n",
       "    .dataframe thead th {\n",
       "        text-align: right;\n",
       "    }\n",
       "</style>\n",
       "<table border=\"1\" class=\"dataframe\">\n",
       "  <thead>\n",
       "    <tr style=\"text-align: right;\">\n",
       "      <th></th>\n",
       "      <th>profile pic</th>\n",
       "      <th>nums/length username</th>\n",
       "      <th>fullname words</th>\n",
       "      <th>nums/length fullname</th>\n",
       "      <th>name==username</th>\n",
       "      <th>description length</th>\n",
       "      <th>external URL</th>\n",
       "      <th>private</th>\n",
       "      <th>#posts</th>\n",
       "      <th>#followers</th>\n",
       "      <th>#follows</th>\n",
       "      <th>fake</th>\n",
       "    </tr>\n",
       "  </thead>\n",
       "  <tbody>\n",
       "    <tr>\n",
       "      <th>0</th>\n",
       "      <td>1</td>\n",
       "      <td>0.27</td>\n",
       "      <td>0</td>\n",
       "      <td>0.0</td>\n",
       "      <td>0</td>\n",
       "      <td>53</td>\n",
       "      <td>0</td>\n",
       "      <td>0</td>\n",
       "      <td>32</td>\n",
       "      <td>1000</td>\n",
       "      <td>955</td>\n",
       "      <td>0</td>\n",
       "    </tr>\n",
       "    <tr>\n",
       "      <th>1</th>\n",
       "      <td>1</td>\n",
       "      <td>0.00</td>\n",
       "      <td>2</td>\n",
       "      <td>0.0</td>\n",
       "      <td>0</td>\n",
       "      <td>44</td>\n",
       "      <td>0</td>\n",
       "      <td>0</td>\n",
       "      <td>286</td>\n",
       "      <td>2740</td>\n",
       "      <td>533</td>\n",
       "      <td>0</td>\n",
       "    </tr>\n",
       "    <tr>\n",
       "      <th>2</th>\n",
       "      <td>1</td>\n",
       "      <td>0.10</td>\n",
       "      <td>2</td>\n",
       "      <td>0.0</td>\n",
       "      <td>0</td>\n",
       "      <td>0</td>\n",
       "      <td>0</td>\n",
       "      <td>1</td>\n",
       "      <td>13</td>\n",
       "      <td>159</td>\n",
       "      <td>98</td>\n",
       "      <td>0</td>\n",
       "    </tr>\n",
       "    <tr>\n",
       "      <th>3</th>\n",
       "      <td>1</td>\n",
       "      <td>0.00</td>\n",
       "      <td>1</td>\n",
       "      <td>0.0</td>\n",
       "      <td>0</td>\n",
       "      <td>82</td>\n",
       "      <td>0</td>\n",
       "      <td>0</td>\n",
       "      <td>679</td>\n",
       "      <td>414</td>\n",
       "      <td>651</td>\n",
       "      <td>0</td>\n",
       "    </tr>\n",
       "    <tr>\n",
       "      <th>4</th>\n",
       "      <td>1</td>\n",
       "      <td>0.00</td>\n",
       "      <td>2</td>\n",
       "      <td>0.0</td>\n",
       "      <td>0</td>\n",
       "      <td>0</td>\n",
       "      <td>0</td>\n",
       "      <td>1</td>\n",
       "      <td>6</td>\n",
       "      <td>151</td>\n",
       "      <td>126</td>\n",
       "      <td>0</td>\n",
       "    </tr>\n",
       "  </tbody>\n",
       "</table>\n",
       "</div>"
      ],
      "text/plain": [
       "   profile pic  nums/length username  fullname words  nums/length fullname  \\\n",
       "0            1                  0.27               0                   0.0   \n",
       "1            1                  0.00               2                   0.0   \n",
       "2            1                  0.10               2                   0.0   \n",
       "3            1                  0.00               1                   0.0   \n",
       "4            1                  0.00               2                   0.0   \n",
       "\n",
       "   name==username  description length  external URL  private  #posts  \\\n",
       "0               0                  53             0        0      32   \n",
       "1               0                  44             0        0     286   \n",
       "2               0                   0             0        1      13   \n",
       "3               0                  82             0        0     679   \n",
       "4               0                   0             0        1       6   \n",
       "\n",
       "   #followers  #follows  fake  \n",
       "0        1000       955     0  \n",
       "1        2740       533     0  \n",
       "2         159        98     0  \n",
       "3         414       651     0  \n",
       "4         151       126     0  "
      ]
     },
     "execution_count": 388,
     "metadata": {},
     "output_type": "execute_result"
    }
   ],
   "source": [
    "df = pd.read_csv(\"train.csv\")\n",
    "df.head()"
   ]
  },
  {
   "cell_type": "code",
   "execution_count": 390,
   "id": "1d238585-46a8-4a12-8c7e-04c3401e9237",
   "metadata": {},
   "outputs": [
    {
     "name": "stdout",
     "output_type": "stream",
     "text": [
      "<class 'pandas.core.frame.DataFrame'>\n",
      "RangeIndex: 576 entries, 0 to 575\n",
      "Data columns (total 12 columns):\n",
      " #   Column                Non-Null Count  Dtype  \n",
      "---  ------                --------------  -----  \n",
      " 0   profile pic           576 non-null    int64  \n",
      " 1   nums/length username  576 non-null    float64\n",
      " 2   fullname words        576 non-null    int64  \n",
      " 3   nums/length fullname  576 non-null    float64\n",
      " 4   name==username        576 non-null    int64  \n",
      " 5   description length    576 non-null    int64  \n",
      " 6   external URL          576 non-null    int64  \n",
      " 7   private               576 non-null    int64  \n",
      " 8   #posts                576 non-null    int64  \n",
      " 9   #followers            576 non-null    int64  \n",
      " 10  #follows              576 non-null    int64  \n",
      " 11  fake                  576 non-null    int64  \n",
      "dtypes: float64(2), int64(10)\n",
      "memory usage: 54.1 KB\n"
     ]
    }
   ],
   "source": [
    "df.info()"
   ]
  },
  {
   "cell_type": "code",
   "execution_count": 203,
   "id": "14182c0f-820e-4526-a203-2f9c1cf0bf67",
   "metadata": {},
   "outputs": [
    {
     "data": {
      "text/plain": [
       "(576, 12)"
      ]
     },
     "execution_count": 203,
     "metadata": {},
     "output_type": "execute_result"
    }
   ],
   "source": [
    "df.shape"
   ]
  },
  {
   "cell_type": "markdown",
   "id": "fb84891e-e46d-40b4-bcf6-f3127259dd5a",
   "metadata": {},
   "source": [
    "# Data Cleaning"
   ]
  },
  {
   "cell_type": "raw",
   "id": "f8f95340-8027-4922-9917-0b39f003e325",
   "metadata": {},
   "source": [
    "Check for null values:"
   ]
  },
  {
   "cell_type": "code",
   "execution_count": 206,
   "id": "02aee53a-f8c2-4cd4-9bf9-d2c7356ffc60",
   "metadata": {},
   "outputs": [
    {
     "data": {
      "text/plain": [
       "profile pic             0\n",
       "nums/length username    0\n",
       "fullname words          0\n",
       "nums/length fullname    0\n",
       "name==username          0\n",
       "description length      0\n",
       "external URL            0\n",
       "private                 0\n",
       "#posts                  0\n",
       "#followers              0\n",
       "#follows                0\n",
       "fake                    0\n",
       "dtype: int64"
      ]
     },
     "execution_count": 206,
     "metadata": {},
     "output_type": "execute_result"
    }
   ],
   "source": [
    "df.isnull().sum()"
   ]
  },
  {
   "cell_type": "markdown",
   "id": "9d21037e-fc7f-48f8-870b-f66df1982f6c",
   "metadata": {},
   "source": [
    "# Check duplicated "
   ]
  },
  {
   "cell_type": "code",
   "execution_count": 209,
   "id": "6e1c5147-2cd8-487b-88f7-0a7b4995b673",
   "metadata": {},
   "outputs": [
    {
     "data": {
      "text/plain": [
       "2"
      ]
     },
     "execution_count": 209,
     "metadata": {},
     "output_type": "execute_result"
    }
   ],
   "source": [
    "df.duplicated().sum()"
   ]
  },
  {
   "cell_type": "markdown",
   "id": "d74450ab-f0d9-43bc-881c-4f2ea32b2c9d",
   "metadata": {},
   "source": [
    "# View the duplicate rows"
   ]
  },
  {
   "cell_type": "code",
   "execution_count": 212,
   "id": "926844ab-efa1-40a0-994a-5c67c6815376",
   "metadata": {},
   "outputs": [
    {
     "data": {
      "text/html": [
       "<div>\n",
       "<style scoped>\n",
       "    .dataframe tbody tr th:only-of-type {\n",
       "        vertical-align: middle;\n",
       "    }\n",
       "\n",
       "    .dataframe tbody tr th {\n",
       "        vertical-align: top;\n",
       "    }\n",
       "\n",
       "    .dataframe thead th {\n",
       "        text-align: right;\n",
       "    }\n",
       "</style>\n",
       "<table border=\"1\" class=\"dataframe\">\n",
       "  <thead>\n",
       "    <tr style=\"text-align: right;\">\n",
       "      <th></th>\n",
       "      <th>profile pic</th>\n",
       "      <th>nums/length username</th>\n",
       "      <th>fullname words</th>\n",
       "      <th>nums/length fullname</th>\n",
       "      <th>name==username</th>\n",
       "      <th>description length</th>\n",
       "      <th>external URL</th>\n",
       "      <th>private</th>\n",
       "      <th>#posts</th>\n",
       "      <th>#followers</th>\n",
       "      <th>#follows</th>\n",
       "      <th>fake</th>\n",
       "    </tr>\n",
       "  </thead>\n",
       "  <tbody>\n",
       "    <tr>\n",
       "      <th>197</th>\n",
       "      <td>1</td>\n",
       "      <td>0.00</td>\n",
       "      <td>2</td>\n",
       "      <td>0.0</td>\n",
       "      <td>0</td>\n",
       "      <td>48</td>\n",
       "      <td>0</td>\n",
       "      <td>0</td>\n",
       "      <td>222</td>\n",
       "      <td>5282</td>\n",
       "      <td>652</td>\n",
       "      <td>0</td>\n",
       "    </tr>\n",
       "    <tr>\n",
       "      <th>525</th>\n",
       "      <td>1</td>\n",
       "      <td>0.91</td>\n",
       "      <td>1</td>\n",
       "      <td>0.0</td>\n",
       "      <td>0</td>\n",
       "      <td>0</td>\n",
       "      <td>0</td>\n",
       "      <td>0</td>\n",
       "      <td>0</td>\n",
       "      <td>75</td>\n",
       "      <td>26</td>\n",
       "      <td>1</td>\n",
       "    </tr>\n",
       "  </tbody>\n",
       "</table>\n",
       "</div>"
      ],
      "text/plain": [
       "     profile pic  nums/length username  fullname words  nums/length fullname  \\\n",
       "197            1                  0.00               2                   0.0   \n",
       "525            1                  0.91               1                   0.0   \n",
       "\n",
       "     name==username  description length  external URL  private  #posts  \\\n",
       "197               0                  48             0        0     222   \n",
       "525               0                   0             0        0       0   \n",
       "\n",
       "     #followers  #follows  fake  \n",
       "197        5282       652     0  \n",
       "525          75        26     1  "
      ]
     },
     "execution_count": 212,
     "metadata": {},
     "output_type": "execute_result"
    }
   ],
   "source": [
    "df[df.duplicated()]"
   ]
  },
  {
   "cell_type": "markdown",
   "id": "c6d21dbe-b82b-4f29-9916-b7e35ae96101",
   "metadata": {},
   "source": [
    "We will not drop them because it's valuable information "
   ]
  },
  {
   "cell_type": "markdown",
   "id": "1167f6e2-2dde-40d3-bd4a-c06216939265",
   "metadata": {},
   "source": [
    "# Exploratory Data Analysis (EDA)"
   ]
  },
  {
   "cell_type": "markdown",
   "id": "5bcb3914-f8f2-4ddb-9e73-bed3aad58fd1",
   "metadata": {},
   "source": [
    "# 'fake' column (Target column)"
   ]
  },
  {
   "cell_type": "raw",
   "id": "8bdd8491-3be3-41c1-a162-3e4522ee9dcc",
   "metadata": {},
   "source": [
    "  Class Balance  \n",
    "  Check how many are fake vs. genuine:"
   ]
  },
  {
   "cell_type": "code",
   "execution_count": 217,
   "id": "7a7e9c61-5a0e-485d-853a-283a86463836",
   "metadata": {},
   "outputs": [
    {
     "data": {
      "text/plain": [
       "fake\n",
       "0    288\n",
       "1    288\n",
       "Name: count, dtype: int64"
      ]
     },
     "execution_count": 217,
     "metadata": {},
     "output_type": "execute_result"
    }
   ],
   "source": [
    "df['fake'].value_counts()"
   ]
  },
  {
   "cell_type": "markdown",
   "id": "ef73e572-5775-4a57-b49c-09d46cee1abc",
   "metadata": {},
   "source": [
    "# Visualize Class Balance"
   ]
  },
  {
   "cell_type": "code",
   "execution_count": 220,
   "id": "5580e9f4-a136-4487-980b-4d0d447f344b",
   "metadata": {},
   "outputs": [
    {
     "data": {
      "image/png": "[encoded data removed]",
      "text/plain": [
       "<Figure size 640x480 with 1 Axes>"
      ]
     },
     "metadata": {},
     "output_type": "display_data"
    }
   ],
   "source": [
    "sns.countplot(x='fake', data=df)\n",
    "plt.title(\"Fake vs Genuine Account Distribution\")\n",
    "plt.xlabel(\"Account Type (0 = Genuine, 1 = Fake)\")\n",
    "plt.ylabel(\"Count\")\n",
    "plt.show()"
   ]
  },
  {
   "cell_type": "markdown",
   "id": "7f67ddee-3679-49f7-bc7a-552ad46c9d42",
   "metadata": {},
   "source": [
    "# 'profile_pic' Column"
   ]
  },
  {
   "cell_type": "code",
   "execution_count": 223,
   "id": "35ac85aa-811b-434d-870c-c3797bf0331a",
   "metadata": {},
   "outputs": [
    {
     "data": {
      "text/plain": [
       "profile pic\n",
       "1    404\n",
       "0    172\n",
       "Name: count, dtype: int64"
      ]
     },
     "execution_count": 223,
     "metadata": {},
     "output_type": "execute_result"
    }
   ],
   "source": [
    "df['profile pic'].value_counts()"
   ]
  },
  {
   "cell_type": "markdown",
   "id": "5f1923f3-12be-4e2e-ad5c-0b305aadedf4",
   "metadata": {},
   "source": [
    "# Check Relation with Target (fake)\n",
    "This will show the percentage of fake vs genuine for each profile pic value."
   ]
  },
  {
   "cell_type": "code",
   "execution_count": 226,
   "id": "8e2bfbb7-e608-4e0d-8901-6aa620a1a759",
   "metadata": {},
   "outputs": [
    {
     "data": {
      "text/html": [
       "<div>\n",
       "<style scoped>\n",
       "    .dataframe tbody tr th:only-of-type {\n",
       "        vertical-align: middle;\n",
       "    }\n",
       "\n",
       "    .dataframe tbody tr th {\n",
       "        vertical-align: top;\n",
       "    }\n",
       "\n",
       "    .dataframe thead th {\n",
       "        text-align: right;\n",
       "    }\n",
       "</style>\n",
       "<table border=\"1\" class=\"dataframe\">\n",
       "  <thead>\n",
       "    <tr style=\"text-align: right;\">\n",
       "      <th>fake</th>\n",
       "      <th>0</th>\n",
       "      <th>1</th>\n",
       "    </tr>\n",
       "    <tr>\n",
       "      <th>profile pic</th>\n",
       "      <th></th>\n",
       "      <th></th>\n",
       "    </tr>\n",
       "  </thead>\n",
       "  <tbody>\n",
       "    <tr>\n",
       "      <th>0</th>\n",
       "      <td>1.162791</td>\n",
       "      <td>98.837209</td>\n",
       "    </tr>\n",
       "    <tr>\n",
       "      <th>1</th>\n",
       "      <td>70.792079</td>\n",
       "      <td>29.207921</td>\n",
       "    </tr>\n",
       "  </tbody>\n",
       "</table>\n",
       "</div>"
      ],
      "text/plain": [
       "fake                 0          1\n",
       "profile pic                      \n",
       "0             1.162791  98.837209\n",
       "1            70.792079  29.207921"
      ]
     },
     "execution_count": 226,
     "metadata": {},
     "output_type": "execute_result"
    }
   ],
   "source": [
    "pd.crosstab(df['profile pic'], df['fake'], normalize='index') * 100"
   ]
  },
  {
   "cell_type": "markdown",
   "id": "2150c982-4b7d-49d7-b73f-f0d9f7a11e66",
   "metadata": {},
   "source": [
    "# Visual check"
   ]
  },
  {
   "cell_type": "code",
   "execution_count": 229,
   "id": "34674e16-8b99-4c8c-8c4c-abe392db5eec",
   "metadata": {},
   "outputs": [
    {
     "data": {
      "image/png": "[encoded data removed]",
      "text/plain": [
       "<Figure size 640x480 with 1 Axes>"
      ]
     },
     "metadata": {},
     "output_type": "display_data"
    }
   ],
   "source": [
    "sns.countplot(x='profile pic', hue='fake', data=df)\n",
    "plt.title(\"Profile Picture vs Fake/Genuine\")\n",
    "plt.xlabel(\"Profile Picture (0 = No, 1 = Yes)\")\n",
    "plt.ylabel(\"Count\")\n",
    "plt.show()"
   ]
  },
  {
   "cell_type": "raw",
   "id": "53afafc4-ac00-46ab-b011-7bd4f2ebadb7",
   "metadata": {},
   "source": [
    "This will give you bars showing how fake and genuine are distributed for both 0 and 1."
   ]
  },
  {
   "cell_type": "markdown",
   "id": "87463161-fadf-4818-ada9-4c57e5c4ece4",
   "metadata": {},
   "source": [
    "# Interpretation:\n",
    "\n",
    "If no profile pic, then higher chance of fake.            \n",
    "If has profile pic, then higher chance of genuine."
   ]
  },
  {
   "cell_type": "markdown",
   "id": "a8651a39-9aa2-41e7-a0f8-7d4cefcf8dff",
   "metadata": {},
   "source": [
    "# 'nums/length username' Column"
   ]
  },
  {
   "cell_type": "code",
   "execution_count": 234,
   "id": "19c7cb6e-9725-4225-8860-e77ddaee38c7",
   "metadata": {},
   "outputs": [
    {
     "data": {
      "text/plain": [
       "nums/length username\n",
       "0.00    299\n",
       "0.33     24\n",
       "0.38     14\n",
       "0.25     14\n",
       "0.44     14\n",
       "0.50     12\n",
       "0.18     11\n",
       "0.57     10\n",
       "0.43     10\n",
       "0.22     10\n",
       "0.29      9\n",
       "0.20      9\n",
       "0.31      9\n",
       "0.36      9\n",
       "0.40      8\n",
       "0.12      8\n",
       "0.27      7\n",
       "0.10      7\n",
       "0.14      7\n",
       "0.15      5\n",
       "0.24      5\n",
       "0.30      5\n",
       "0.07      4\n",
       "0.09      4\n",
       "0.55      4\n",
       "0.67      4\n",
       "0.08      4\n",
       "0.19      3\n",
       "0.13      3\n",
       "0.88      3\n",
       "0.11      3\n",
       "0.46      3\n",
       "0.47      3\n",
       "0.89      3\n",
       "0.58      3\n",
       "0.17      2\n",
       "0.06      2\n",
       "0.91      2\n",
       "0.21      2\n",
       "0.42      2\n",
       "0.16      2\n",
       "0.45      2\n",
       "0.64      1\n",
       "0.71      1\n",
       "0.83      1\n",
       "0.41      1\n",
       "0.28      1\n",
       "0.54      1\n",
       "0.80      1\n",
       "0.73      1\n",
       "0.60      1\n",
       "0.86      1\n",
       "0.62      1\n",
       "0.92      1\n",
       "Name: count, dtype: int64"
      ]
     },
     "execution_count": 234,
     "metadata": {},
     "output_type": "execute_result"
    }
   ],
   "source": [
    "df['nums/length username'].value_counts()"
   ]
  },
  {
   "cell_type": "raw",
   "id": "2e880410-b786-4e40-8d4f-f9d1f09dc00e",
   "metadata": {},
   "source": [
    "Have random usernames with many numbers (e.g., \"alex56789\", \"sam_9876\").\n",
    "Genuine users usually have fewer or no numbers in their usernames.\n",
    "\n",
    "High ratio (close to 1)\n",
    "Low ratio (close to 0) "
   ]
  },
  {
   "cell_type": "code",
   "execution_count": 236,
   "id": "cd6d42e1-71e7-4411-98c5-1cfa17f22b36",
   "metadata": {},
   "outputs": [
    {
     "data": {
      "image/png": "[encoded data removed]",
      "text/plain": [
       "<Figure size 640x480 with 1 Axes>"
      ]
     },
     "metadata": {},
     "output_type": "display_data"
    }
   ],
   "source": [
    "sns.boxplot(x='fake', y='nums/length username', data=df)\n",
    "plt.title(\"Numbers/Length in Username vs Fake/Genuine\")\n",
    "plt.xlabel(\"Account Type (0 = Genuine, 1 = Fake)\")\n",
    "plt.ylabel(\"Numbers per Username Length\")\n",
    "plt.show()\n"
   ]
  },
  {
   "cell_type": "markdown",
   "id": "6bf8621e-3f0c-46ac-88a0-cb65c68bc088",
   "metadata": {},
   "source": [
    "#  Categorizing into Low / Medium / High"
   ]
  },
  {
   "cell_type": "code",
   "execution_count": 239,
   "id": "7d225af7-5dbb-42bf-a9ed-08b36b90af4e",
   "metadata": {},
   "outputs": [
    {
     "name": "stdout",
     "output_type": "stream",
     "text": [
      "   profile pic  nums/length username  fullname words  nums/length fullname  \\\n",
      "0            1                  0.27               0                   0.0   \n",
      "1            1                  0.00               2                   0.0   \n",
      "2            1                  0.10               2                   0.0   \n",
      "3            1                  0.00               1                   0.0   \n",
      "4            1                  0.00               2                   0.0   \n",
      "\n",
      "   name==username  description length  external URL  private  #posts  \\\n",
      "0               0                  53             0        0      32   \n",
      "1               0                  44             0        0     286   \n",
      "2               0                   0             0        1      13   \n",
      "3               0                  82             0        0     679   \n",
      "4               0                   0             0        1       6   \n",
      "\n",
      "   #followers  #follows  fake username_num_ratio_cat  \n",
      "0        1000       955     0   Medium (Few numbers)  \n",
      "1        2740       533     0       Low (No numbers)  \n",
      "2         159        98     0   Medium (Few numbers)  \n",
      "3         414       651     0       Low (No numbers)  \n",
      "4         151       126     0       Low (No numbers)  \n"
     ]
    }
   ],
   "source": [
    "def username_num_ratio_category(x):\n",
    "    if x == 0:\n",
    "        return \"Low (No numbers)\"\n",
    "    elif x <= 0.4:\n",
    "        return \"Medium (Few numbers)\"\n",
    "    else:\n",
    "        return \"High (Many numbers)\"\n",
    "\n",
    "df['username_num_ratio_cat'] = df['nums/length username'].apply(username_num_ratio_category)\n",
    "print(df.head())"
   ]
  },
  {
   "cell_type": "raw",
   "id": "d6038bc1-12b6-49b6-9717-96a3608142a2",
   "metadata": {},
   "source": [
    "Check the counts"
   ]
  },
  {
   "cell_type": "code",
   "execution_count": 241,
   "id": "16d7a96d-ffa8-4bb1-ba74-d856ca695f1e",
   "metadata": {},
   "outputs": [
    {
     "data": {
      "text/plain": [
       "username_num_ratio_cat\n",
       "Low (No numbers)        299\n",
       "Medium (Few numbers)    191\n",
       "High (Many numbers)      86\n",
       "Name: count, dtype: int64"
      ]
     },
     "execution_count": 241,
     "metadata": {},
     "output_type": "execute_result"
    }
   ],
   "source": [
    "df['username_num_ratio_cat'].value_counts()"
   ]
  },
  {
   "cell_type": "markdown",
   "id": "cc2fee20-f513-4461-8a77-ab55a8931ae4",
   "metadata": {},
   "source": [
    "# See Relation with fake/genuine"
   ]
  },
  {
   "cell_type": "code",
   "execution_count": 244,
   "id": "b79b6c5d-a4a3-4c7c-8b81-1adf3319342a",
   "metadata": {},
   "outputs": [
    {
     "data": {
      "image/png": "[encoded data removed]",
      "text/plain": [
       "<Figure size 640x480 with 1 Axes>"
      ]
     },
     "metadata": {},
     "output_type": "display_data"
    }
   ],
   "source": [
    "sns.countplot(x='username_num_ratio_cat', hue='fake', data=df)\n",
    "plt.title(\"Username Number Ratio vs Fake/Genuine\")\n",
    "plt.xlabel(\"Numbers in Username (Ratio Category)\")\n",
    "plt.ylabel(\"Count\")\n",
    "plt.show()"
   ]
  },
  {
   "cell_type": "raw",
   "id": "12677702-cc95-447b-9316-30f6eb415b24",
   "metadata": {},
   "source": [
    "Label Encoding "
   ]
  },
  {
   "cell_type": "code",
   "execution_count": 59,
   "id": "83f5d598-b61d-45f3-826e-1b1e60a3784e",
   "metadata": {},
   "outputs": [
    {
     "name": "stdout",
     "output_type": "stream",
     "text": [
      "   profile pic  nums/length username  fullname words  nums/length fullname  \\\n",
      "0            1                  0.27               0                   0.0   \n",
      "1            1                  0.00               2                   0.0   \n",
      "2            1                  0.10               2                   0.0   \n",
      "3            1                  0.00               1                   0.0   \n",
      "4            1                  0.00               2                   0.0   \n",
      "\n",
      "   name==username  description length  external URL  private  #posts  \\\n",
      "0               0                  53             0        0      32   \n",
      "1               0                  44             0        0     286   \n",
      "2               0                   0             0        1      13   \n",
      "3               0                  82             0        0     679   \n",
      "4               0                   0             0        1       6   \n",
      "\n",
      "   #followers  #follows  fake  post_count_cat username_num_ratio_cat  \\\n",
      "0        1000       955     0  Moderate posts   Medium (Few numbers)   \n",
      "1        2740       533     0      Many posts       Low (No numbers)   \n",
      "2         159        98     0  Moderate posts   Medium (Few numbers)   \n",
      "3         414       651     0      Many posts       Low (No numbers)   \n",
      "4         151       126     0  Moderate posts       Low (No numbers)   \n",
      "\n",
      "   username_num_ratio_cat_encoded  \n",
      "0                               2  \n",
      "1                               1  \n",
      "2                               2  \n",
      "3                               1  \n",
      "4                               1  \n"
     ]
    }
   ],
   "source": [
    "from sklearn.preprocessing import LabelEncoder\n",
    "le = LabelEncoder()\n",
    "df['username_num_ratio_cat_encoded'] = le.fit_transform(df['username_num_ratio_cat'])\n",
    "print(df.head())"
   ]
  },
  {
   "cell_type": "markdown",
   "id": "88bc6d66-8b28-45aa-bc13-8323a0c51e5e",
   "metadata": {},
   "source": [
    "# 'name==username' Column"
   ]
  },
  {
   "cell_type": "code",
   "execution_count": 247,
   "id": "38652464-36ee-4bff-b3bc-a7ee3d4ddf21",
   "metadata": {},
   "outputs": [
    {
     "data": {
      "text/plain": [
       "name==username\n",
       "0    556\n",
       "1     20\n",
       "Name: count, dtype: int64"
      ]
     },
     "execution_count": 247,
     "metadata": {},
     "output_type": "execute_result"
    }
   ],
   "source": [
    "df['name==username'].value_counts()"
   ]
  },
  {
   "cell_type": "raw",
   "id": "07bbaf14-380e-44d0-9577-9c9d524b6eb7",
   "metadata": {},
   "source": [
    "Fake accounts often have the same username and full name:\n",
    "Genuine accounts usually have different username and full name:"
   ]
  },
  {
   "cell_type": "markdown",
   "id": "684b73bc-a6c0-45dd-aee0-ecb80cc67ad6",
   "metadata": {},
   "source": [
    "# Relationship with the fake(target):"
   ]
  },
  {
   "cell_type": "code",
   "execution_count": 250,
   "id": "d32f9b8d-9047-4cc7-a341-61339b39bc05",
   "metadata": {},
   "outputs": [
    {
     "data": {
      "text/html": [
       "<div>\n",
       "<style scoped>\n",
       "    .dataframe tbody tr th:only-of-type {\n",
       "        vertical-align: middle;\n",
       "    }\n",
       "\n",
       "    .dataframe tbody tr th {\n",
       "        vertical-align: top;\n",
       "    }\n",
       "\n",
       "    .dataframe thead th {\n",
       "        text-align: right;\n",
       "    }\n",
       "</style>\n",
       "<table border=\"1\" class=\"dataframe\">\n",
       "  <thead>\n",
       "    <tr style=\"text-align: right;\">\n",
       "      <th>fake</th>\n",
       "      <th>0</th>\n",
       "      <th>1</th>\n",
       "    </tr>\n",
       "    <tr>\n",
       "      <th>name==username</th>\n",
       "      <th></th>\n",
       "      <th></th>\n",
       "    </tr>\n",
       "  </thead>\n",
       "  <tbody>\n",
       "    <tr>\n",
       "      <th>0</th>\n",
       "      <td>51.618705</td>\n",
       "      <td>48.381295</td>\n",
       "    </tr>\n",
       "    <tr>\n",
       "      <th>1</th>\n",
       "      <td>5.000000</td>\n",
       "      <td>95.000000</td>\n",
       "    </tr>\n",
       "  </tbody>\n",
       "</table>\n",
       "</div>"
      ],
      "text/plain": [
       "fake                    0          1\n",
       "name==username                      \n",
       "0               51.618705  48.381295\n",
       "1                5.000000  95.000000"
      ]
     },
     "execution_count": 250,
     "metadata": {},
     "output_type": "execute_result"
    }
   ],
   "source": [
    "pd.crosstab(df['name==username'], df['fake'], normalize='index') * 100"
   ]
  },
  {
   "cell_type": "markdown",
   "id": "43d94952-e9b6-4b91-9839-c38fbaa3c1db",
   "metadata": {},
   "source": [
    "# Visual check"
   ]
  },
  {
   "cell_type": "code",
   "execution_count": 253,
   "id": "b8a8c21d-12cc-43b6-9d6e-24b54ffcc6e3",
   "metadata": {},
   "outputs": [
    {
     "data": {
      "image/png": "[encoded data removed]",
      "text/plain": [
       "<Figure size 640x480 with 1 Axes>"
      ]
     },
     "metadata": {},
     "output_type": "display_data"
    }
   ],
   "source": [
    "sns.countplot(x='name==username', hue='fake', data=df)\n",
    "plt.title(\"Same Name as Username vs Fake/Genuine\")\n",
    "plt.xlabel(\"1 = Same, 0 = Different\")\n",
    "plt.ylabel(\"Count\")\n",
    "plt.show()\n"
   ]
  },
  {
   "cell_type": "markdown",
   "id": "b7049902-a4d4-44fc-962e-751175bdd2af",
   "metadata": {},
   "source": [
    "# Interpretation\n",
    "\n",
    "1 (same): Mostly fake       \n",
    "0 (different): Mostly genuine"
   ]
  },
  {
   "cell_type": "markdown",
   "id": "c89a511f-eddf-4cb4-9173-0e17dcc0c936",
   "metadata": {},
   "source": [
    "# 'fullname words' Column"
   ]
  },
  {
   "cell_type": "code",
   "execution_count": 257,
   "id": "044ac3bc-59b5-4438-be3e-1bbbb5a60c79",
   "metadata": {},
   "outputs": [
    {
     "data": {
      "text/plain": [
       "fullname words\n",
       "1     283\n",
       "2     187\n",
       "0      57\n",
       "3      34\n",
       "4       7\n",
       "5       4\n",
       "6       2\n",
       "12      1\n",
       "10      1\n",
       "Name: count, dtype: int64"
      ]
     },
     "execution_count": 257,
     "metadata": {},
     "output_type": "execute_result"
    }
   ],
   "source": [
    "df['fullname words'].value_counts()"
   ]
  },
  {
   "cell_type": "raw",
   "id": "d9918610-c7d2-49e6-966f-d6e56614b6e3",
   "metadata": {},
   "source": [
    "Fake accounts often have: No full name (0 words)\n",
    "                         : Single-word names (often matching username or random name)\n",
    "Genuine accounts often have: 2+ words (first name + last name)\n",
    "                            : Sometimes even more (middle names, extra descriptors)"
   ]
  },
  {
   "cell_type": "markdown",
   "id": "e7d0d9e2-2b2e-4323-9581-4302fb8edf57",
   "metadata": {},
   "source": [
    "# Compare it with target(fake) column."
   ]
  },
  {
   "cell_type": "raw",
   "id": "88e76eda-a82f-49bf-af07-ec7c4b3d020f",
   "metadata": {},
   "source": [
    "Percentage table"
   ]
  },
  {
   "cell_type": "code",
   "execution_count": 260,
   "id": "7b972740-3596-4866-ac45-7451af89794d",
   "metadata": {},
   "outputs": [
    {
     "data": {
      "text/html": [
       "<div>\n",
       "<style scoped>\n",
       "    .dataframe tbody tr th:only-of-type {\n",
       "        vertical-align: middle;\n",
       "    }\n",
       "\n",
       "    .dataframe tbody tr th {\n",
       "        vertical-align: top;\n",
       "    }\n",
       "\n",
       "    .dataframe thead th {\n",
       "        text-align: right;\n",
       "    }\n",
       "</style>\n",
       "<table border=\"1\" class=\"dataframe\">\n",
       "  <thead>\n",
       "    <tr style=\"text-align: right;\">\n",
       "      <th>fake</th>\n",
       "      <th>0</th>\n",
       "      <th>1</th>\n",
       "    </tr>\n",
       "    <tr>\n",
       "      <th>fullname words</th>\n",
       "      <th></th>\n",
       "      <th></th>\n",
       "    </tr>\n",
       "  </thead>\n",
       "  <tbody>\n",
       "    <tr>\n",
       "      <th>0</th>\n",
       "      <td>52.631579</td>\n",
       "      <td>47.368421</td>\n",
       "    </tr>\n",
       "    <tr>\n",
       "      <th>1</th>\n",
       "      <td>26.501767</td>\n",
       "      <td>73.498233</td>\n",
       "    </tr>\n",
       "    <tr>\n",
       "      <th>2</th>\n",
       "      <td>78.074866</td>\n",
       "      <td>21.925134</td>\n",
       "    </tr>\n",
       "    <tr>\n",
       "      <th>3</th>\n",
       "      <td>73.529412</td>\n",
       "      <td>26.470588</td>\n",
       "    </tr>\n",
       "    <tr>\n",
       "      <th>4</th>\n",
       "      <td>71.428571</td>\n",
       "      <td>28.571429</td>\n",
       "    </tr>\n",
       "    <tr>\n",
       "      <th>5</th>\n",
       "      <td>75.000000</td>\n",
       "      <td>25.000000</td>\n",
       "    </tr>\n",
       "    <tr>\n",
       "      <th>6</th>\n",
       "      <td>100.000000</td>\n",
       "      <td>0.000000</td>\n",
       "    </tr>\n",
       "    <tr>\n",
       "      <th>10</th>\n",
       "      <td>100.000000</td>\n",
       "      <td>0.000000</td>\n",
       "    </tr>\n",
       "    <tr>\n",
       "      <th>12</th>\n",
       "      <td>100.000000</td>\n",
       "      <td>0.000000</td>\n",
       "    </tr>\n",
       "  </tbody>\n",
       "</table>\n",
       "</div>"
      ],
      "text/plain": [
       "fake                     0          1\n",
       "fullname words                       \n",
       "0                52.631579  47.368421\n",
       "1                26.501767  73.498233\n",
       "2                78.074866  21.925134\n",
       "3                73.529412  26.470588\n",
       "4                71.428571  28.571429\n",
       "5                75.000000  25.000000\n",
       "6               100.000000   0.000000\n",
       "10              100.000000   0.000000\n",
       "12              100.000000   0.000000"
      ]
     },
     "execution_count": 260,
     "metadata": {},
     "output_type": "execute_result"
    }
   ],
   "source": [
    "pd.crosstab(df['fullname words'], df['fake'], normalize='index') * 100"
   ]
  },
  {
   "cell_type": "markdown",
   "id": "d5ddc69c-b1ba-4bf1-a698-3904343e5669",
   "metadata": {},
   "source": [
    "# Visual check"
   ]
  },
  {
   "cell_type": "code",
   "execution_count": 81,
   "id": "2f8f14ee-b75a-4cad-9615-1906ab67268b",
   "metadata": {},
   "outputs": [
    {
     "data": {
      "image/png": "[encoded data removed]",
      "text/plain": [
       "<Figure size 640x480 with 1 Axes>"
      ]
     },
     "metadata": {},
     "output_type": "display_data"
    }
   ],
   "source": [
    "sns.countplot(x='fullname words', hue='fake', data=df)\n",
    "plt.title(\"Full Name Words vs Fake/Genuine\")\n",
    "plt.xlabel(\"Number of Words in Full Name\")\n",
    "plt.ylabel(\"Count\")\n",
    "plt.show()"
   ]
  },
  {
   "cell_type": "markdown",
   "id": "4cf99a59-642c-4b60-8244-63fdbaa49b6c",
   "metadata": {},
   "source": [
    "# nums/length fullname Column\n",
    "\n",
    "Genuine accounts: no numbers in the full name → ratio close to 0.00.  \n",
    "Fake accounts: Often use numbers in the full name → higher ratio."
   ]
  },
  {
   "cell_type": "code",
   "execution_count": 265,
   "id": "a6a6c90e-b917-47e6-bc60-b90f721ccf93",
   "metadata": {},
   "outputs": [
    {
     "data": {
      "text/plain": [
       "nums/length fullname\n",
       "0.00    518\n",
       "0.33     11\n",
       "0.40      7\n",
       "0.25      4\n",
       "0.50      3\n",
       "0.31      3\n",
       "1.00      3\n",
       "0.22      3\n",
       "0.24      3\n",
       "0.43      2\n",
       "0.36      2\n",
       "0.12      2\n",
       "0.18      2\n",
       "0.44      2\n",
       "0.38      1\n",
       "0.57      1\n",
       "0.27      1\n",
       "0.29      1\n",
       "0.20      1\n",
       "0.89      1\n",
       "0.11      1\n",
       "0.14      1\n",
       "0.08      1\n",
       "0.10      1\n",
       "0.46      1\n",
       "Name: count, dtype: int64"
      ]
     },
     "execution_count": 265,
     "metadata": {},
     "output_type": "execute_result"
    }
   ],
   "source": [
    "df['nums/length fullname'].value_counts()  "
   ]
  },
  {
   "cell_type": "markdown",
   "id": "42785fe4-bede-4d1f-8a65-74afe49ae412",
   "metadata": {},
   "source": [
    "# Check fake vs genuine tendency\n",
    "\n",
    "Percentage table"
   ]
  },
  {
   "cell_type": "code",
   "execution_count": 88,
   "id": "21b2b834-bf8b-460a-b86c-af2273444a09",
   "metadata": {},
   "outputs": [
    {
     "data": {
      "text/html": [
       "<div>\n",
       "<style scoped>\n",
       "    .dataframe tbody tr th:only-of-type {\n",
       "        vertical-align: middle;\n",
       "    }\n",
       "\n",
       "    .dataframe tbody tr th {\n",
       "        vertical-align: top;\n",
       "    }\n",
       "\n",
       "    .dataframe thead th {\n",
       "        text-align: right;\n",
       "    }\n",
       "</style>\n",
       "<table border=\"1\" class=\"dataframe\">\n",
       "  <thead>\n",
       "    <tr style=\"text-align: right;\">\n",
       "      <th>fake</th>\n",
       "      <th>0</th>\n",
       "      <th>1</th>\n",
       "    </tr>\n",
       "    <tr>\n",
       "      <th>nums/length fullname</th>\n",
       "      <th></th>\n",
       "      <th></th>\n",
       "    </tr>\n",
       "  </thead>\n",
       "  <tbody>\n",
       "    <tr>\n",
       "      <th>0.00</th>\n",
       "      <td>54.054054</td>\n",
       "      <td>45.945946</td>\n",
       "    </tr>\n",
       "    <tr>\n",
       "      <th>0.08</th>\n",
       "      <td>100.000000</td>\n",
       "      <td>0.000000</td>\n",
       "    </tr>\n",
       "    <tr>\n",
       "      <th>0.10</th>\n",
       "      <td>100.000000</td>\n",
       "      <td>0.000000</td>\n",
       "    </tr>\n",
       "    <tr>\n",
       "      <th>0.11</th>\n",
       "      <td>0.000000</td>\n",
       "      <td>100.000000</td>\n",
       "    </tr>\n",
       "    <tr>\n",
       "      <th>0.12</th>\n",
       "      <td>50.000000</td>\n",
       "      <td>50.000000</td>\n",
       "    </tr>\n",
       "    <tr>\n",
       "      <th>0.14</th>\n",
       "      <td>100.000000</td>\n",
       "      <td>0.000000</td>\n",
       "    </tr>\n",
       "    <tr>\n",
       "      <th>0.18</th>\n",
       "      <td>0.000000</td>\n",
       "      <td>100.000000</td>\n",
       "    </tr>\n",
       "    <tr>\n",
       "      <th>0.20</th>\n",
       "      <td>0.000000</td>\n",
       "      <td>100.000000</td>\n",
       "    </tr>\n",
       "    <tr>\n",
       "      <th>0.22</th>\n",
       "      <td>0.000000</td>\n",
       "      <td>100.000000</td>\n",
       "    </tr>\n",
       "    <tr>\n",
       "      <th>0.24</th>\n",
       "      <td>33.333333</td>\n",
       "      <td>66.666667</td>\n",
       "    </tr>\n",
       "    <tr>\n",
       "      <th>0.25</th>\n",
       "      <td>50.000000</td>\n",
       "      <td>50.000000</td>\n",
       "    </tr>\n",
       "    <tr>\n",
       "      <th>0.27</th>\n",
       "      <td>0.000000</td>\n",
       "      <td>100.000000</td>\n",
       "    </tr>\n",
       "    <tr>\n",
       "      <th>0.29</th>\n",
       "      <td>0.000000</td>\n",
       "      <td>100.000000</td>\n",
       "    </tr>\n",
       "    <tr>\n",
       "      <th>0.31</th>\n",
       "      <td>0.000000</td>\n",
       "      <td>100.000000</td>\n",
       "    </tr>\n",
       "    <tr>\n",
       "      <th>0.33</th>\n",
       "      <td>9.090909</td>\n",
       "      <td>90.909091</td>\n",
       "    </tr>\n",
       "    <tr>\n",
       "      <th>0.36</th>\n",
       "      <td>0.000000</td>\n",
       "      <td>100.000000</td>\n",
       "    </tr>\n",
       "    <tr>\n",
       "      <th>0.38</th>\n",
       "      <td>0.000000</td>\n",
       "      <td>100.000000</td>\n",
       "    </tr>\n",
       "    <tr>\n",
       "      <th>0.40</th>\n",
       "      <td>0.000000</td>\n",
       "      <td>100.000000</td>\n",
       "    </tr>\n",
       "    <tr>\n",
       "      <th>0.43</th>\n",
       "      <td>0.000000</td>\n",
       "      <td>100.000000</td>\n",
       "    </tr>\n",
       "    <tr>\n",
       "      <th>0.44</th>\n",
       "      <td>0.000000</td>\n",
       "      <td>100.000000</td>\n",
       "    </tr>\n",
       "    <tr>\n",
       "      <th>0.46</th>\n",
       "      <td>0.000000</td>\n",
       "      <td>100.000000</td>\n",
       "    </tr>\n",
       "    <tr>\n",
       "      <th>0.50</th>\n",
       "      <td>0.000000</td>\n",
       "      <td>100.000000</td>\n",
       "    </tr>\n",
       "    <tr>\n",
       "      <th>0.57</th>\n",
       "      <td>0.000000</td>\n",
       "      <td>100.000000</td>\n",
       "    </tr>\n",
       "    <tr>\n",
       "      <th>0.89</th>\n",
       "      <td>0.000000</td>\n",
       "      <td>100.000000</td>\n",
       "    </tr>\n",
       "    <tr>\n",
       "      <th>1.00</th>\n",
       "      <td>0.000000</td>\n",
       "      <td>100.000000</td>\n",
       "    </tr>\n",
       "  </tbody>\n",
       "</table>\n",
       "</div>"
      ],
      "text/plain": [
       "fake                           0           1\n",
       "nums/length fullname                        \n",
       "0.00                   54.054054   45.945946\n",
       "0.08                  100.000000    0.000000\n",
       "0.10                  100.000000    0.000000\n",
       "0.11                    0.000000  100.000000\n",
       "0.12                   50.000000   50.000000\n",
       "0.14                  100.000000    0.000000\n",
       "0.18                    0.000000  100.000000\n",
       "0.20                    0.000000  100.000000\n",
       "0.22                    0.000000  100.000000\n",
       "0.24                   33.333333   66.666667\n",
       "0.25                   50.000000   50.000000\n",
       "0.27                    0.000000  100.000000\n",
       "0.29                    0.000000  100.000000\n",
       "0.31                    0.000000  100.000000\n",
       "0.33                    9.090909   90.909091\n",
       "0.36                    0.000000  100.000000\n",
       "0.38                    0.000000  100.000000\n",
       "0.40                    0.000000  100.000000\n",
       "0.43                    0.000000  100.000000\n",
       "0.44                    0.000000  100.000000\n",
       "0.46                    0.000000  100.000000\n",
       "0.50                    0.000000  100.000000\n",
       "0.57                    0.000000  100.000000\n",
       "0.89                    0.000000  100.000000\n",
       "1.00                    0.000000  100.000000"
      ]
     },
     "execution_count": 88,
     "metadata": {},
     "output_type": "execute_result"
    }
   ],
   "source": [
    "pd.crosstab(df['nums/length fullname'], df['fake'], normalize='index') * 100"
   ]
  },
  {
   "cell_type": "raw",
   "id": "413b409b-6391-4689-94f2-017527c54d23",
   "metadata": {},
   "source": [
    "But since the ratios have many small variations, it’s better to group them."
   ]
  },
  {
   "cell_type": "markdown",
   "id": "f9ae69a5-373e-4696-98b6-25737766c76b",
   "metadata": {},
   "source": [
    "# Group into Low/Medium/High numeric ratio"
   ]
  },
  {
   "cell_type": "code",
   "execution_count": 268,
   "id": "b58c2132-a862-4626-a5c4-6167e93ebfef",
   "metadata": {},
   "outputs": [
    {
     "name": "stdout",
     "output_type": "stream",
     "text": [
      "   profile pic  nums/length username  fullname words  nums/length fullname  \\\n",
      "0            1                  0.27               0                   0.0   \n",
      "1            1                  0.00               2                   0.0   \n",
      "2            1                  0.10               2                   0.0   \n",
      "3            1                  0.00               1                   0.0   \n",
      "4            1                  0.00               2                   0.0   \n",
      "\n",
      "   name==username  description length  external URL  private  #posts  \\\n",
      "0               0                  53             0        0      32   \n",
      "1               0                  44             0        0     286   \n",
      "2               0                   0             0        1      13   \n",
      "3               0                  82             0        0     679   \n",
      "4               0                   0             0        1       6   \n",
      "\n",
      "   #followers  #follows  fake username_num_ratio_cat fullname_num_ratio_cat  \n",
      "0        1000       955     0   Medium (Few numbers)       Low (No numbers)  \n",
      "1        2740       533     0       Low (No numbers)       Low (No numbers)  \n",
      "2         159        98     0   Medium (Few numbers)       Low (No numbers)  \n",
      "3         414       651     0       Low (No numbers)       Low (No numbers)  \n",
      "4         151       126     0       Low (No numbers)       Low (No numbers)  \n"
     ]
    }
   ],
   "source": [
    "def fullname_num_ratio_category(x):\n",
    "    if x == 0:\n",
    "        return \"Low (No numbers)\"\n",
    "    elif x <= 0.4:\n",
    "        return \"Medium (Few numbers)\"\n",
    "    else:\n",
    "        return \"High (Many numbers)\"\n",
    "\n",
    "df['fullname_num_ratio_cat'] = df['nums/length fullname'].apply(fullname_num_ratio_category)\n",
    "print(df.head())"
   ]
  },
  {
   "cell_type": "raw",
   "id": "b337069b-e4bc-4ef5-9f74-d8426ffb5efc",
   "metadata": {},
   "source": [
    "Now check relation with fake"
   ]
  },
  {
   "cell_type": "code",
   "execution_count": 270,
   "id": "1bd7fca6-51e7-4b18-a1f7-09d3ffed814a",
   "metadata": {},
   "outputs": [
    {
     "data": {
      "text/html": [
       "<div>\n",
       "<style scoped>\n",
       "    .dataframe tbody tr th:only-of-type {\n",
       "        vertical-align: middle;\n",
       "    }\n",
       "\n",
       "    .dataframe tbody tr th {\n",
       "        vertical-align: top;\n",
       "    }\n",
       "\n",
       "    .dataframe thead th {\n",
       "        text-align: right;\n",
       "    }\n",
       "</style>\n",
       "<table border=\"1\" class=\"dataframe\">\n",
       "  <thead>\n",
       "    <tr style=\"text-align: right;\">\n",
       "      <th>fake</th>\n",
       "      <th>0</th>\n",
       "      <th>1</th>\n",
       "    </tr>\n",
       "    <tr>\n",
       "      <th>fullname_num_ratio_cat</th>\n",
       "      <th></th>\n",
       "      <th></th>\n",
       "    </tr>\n",
       "  </thead>\n",
       "  <tbody>\n",
       "    <tr>\n",
       "      <th>High (Many numbers)</th>\n",
       "      <td>0.000000</td>\n",
       "      <td>100.000000</td>\n",
       "    </tr>\n",
       "    <tr>\n",
       "      <th>Low (No numbers)</th>\n",
       "      <td>54.054054</td>\n",
       "      <td>45.945946</td>\n",
       "    </tr>\n",
       "    <tr>\n",
       "      <th>Medium (Few numbers)</th>\n",
       "      <td>17.777778</td>\n",
       "      <td>82.222222</td>\n",
       "    </tr>\n",
       "  </tbody>\n",
       "</table>\n",
       "</div>"
      ],
      "text/plain": [
       "fake                            0           1\n",
       "fullname_num_ratio_cat                       \n",
       "High (Many numbers)      0.000000  100.000000\n",
       "Low (No numbers)        54.054054   45.945946\n",
       "Medium (Few numbers)    17.777778   82.222222"
      ]
     },
     "execution_count": 270,
     "metadata": {},
     "output_type": "execute_result"
    }
   ],
   "source": [
    "pd.crosstab(df['fullname_num_ratio_cat'], df['fake'], normalize='index') * 100"
   ]
  },
  {
   "cell_type": "markdown",
   "id": "49c4dc32-56e4-471d-b509-7c31de5fce3a",
   "metadata": {},
   "source": [
    "# Visual check"
   ]
  },
  {
   "cell_type": "code",
   "execution_count": 273,
   "id": "94b45365-8357-4471-a18c-08cbf0575a65",
   "metadata": {},
   "outputs": [
    {
     "data": {
      "image/png": "[encoded data removed]",
      "text/plain": [
       "<Figure size 640x480 with 1 Axes>"
      ]
     },
     "metadata": {},
     "output_type": "display_data"
    }
   ],
   "source": [
    "sns.countplot(x='fullname_num_ratio_cat', hue='fake', data=df)\n",
    "plt.title(\"Numbers in Full Name vs Fake/Genuine\")\n",
    "plt.xlabel(\"Number Ratio in Full Name\")\n",
    "plt.ylabel(\"Count\")\n",
    "plt.show()"
   ]
  },
  {
   "cell_type": "markdown",
   "id": "63e5dff9-bbda-4106-ac39-bcb63527a64c",
   "metadata": {},
   "source": [
    "# Interpretation\n",
    "\n",
    "Low (No numbers): Mostly genuine.   \n",
    "Medium (Few numbers): Mixed but higher fake percentage than low.    \n",
    "High (Many numbers): Often fake."
   ]
  },
  {
   "cell_type": "markdown",
   "id": "a2ec62e0-2c74-4090-9255-e76addd64b48",
   "metadata": {},
   "source": [
    "# 'description length' Column\n",
    "\n",
    "Empty bio: 0 characters.    \n",
    "Fake accounts: No bio at all (0)        \n",
    "             : Very short or generic bios (2, 5 characters)         \n",
    "             : Random numbers or emojis instead of meaningful text.\n",
    "             \n",
    "Genuine accounts often have: Medium to long bios describing themselves, hobbies, work, etc.           \n",
    "                           : Usually more characters.          "
   ]
  },
  {
   "cell_type": "code",
   "execution_count": 279,
   "id": "ba30a7cf-0152-4849-b84e-0d5413537d34",
   "metadata": {},
   "outputs": [
    {
     "data": {
      "text/plain": [
       "description length\n",
       "0      326\n",
       "35       8\n",
       "2        7\n",
       "23       6\n",
       "50       6\n",
       "19       6\n",
       "12       6\n",
       "26       6\n",
       "43       5\n",
       "34       5\n",
       "30       5\n",
       "5        5\n",
       "18       5\n",
       "46       4\n",
       "28       4\n",
       "54       4\n",
       "40       4\n",
       "148      4\n",
       "1        4\n",
       "9        4\n",
       "24       4\n",
       "59       4\n",
       "70       3\n",
       "123      3\n",
       "39       3\n",
       "149      3\n",
       "91       3\n",
       "11       3\n",
       "44       3\n",
       "37       3\n",
       "6        3\n",
       "13       3\n",
       "20       3\n",
       "81       3\n",
       "27       3\n",
       "71       3\n",
       "48       3\n",
       "55       2\n",
       "15       2\n",
       "73       2\n",
       "146      2\n",
       "32       2\n",
       "61       2\n",
       "10       2\n",
       "33       2\n",
       "17       2\n",
       "150      2\n",
       "86       2\n",
       "67       2\n",
       "51       2\n",
       "62       2\n",
       "53       2\n",
       "21       2\n",
       "129      2\n",
       "82       2\n",
       "103      2\n",
       "98       2\n",
       "126      2\n",
       "122      2\n",
       "138      2\n",
       "134      2\n",
       "4        2\n",
       "57       2\n",
       "3        2\n",
       "22       2\n",
       "74       2\n",
       "64       2\n",
       "42       2\n",
       "8        2\n",
       "80       1\n",
       "109      1\n",
       "96       1\n",
       "106      1\n",
       "63       1\n",
       "112      1\n",
       "101      1\n",
       "68       1\n",
       "132      1\n",
       "16       1\n",
       "49       1\n",
       "120      1\n",
       "25       1\n",
       "139      1\n",
       "31       1\n",
       "7        1\n",
       "36       1\n",
       "105      1\n",
       "140      1\n",
       "117      1\n",
       "108      1\n",
       "133      1\n",
       "89       1\n",
       "93       1\n",
       "87       1\n",
       "95       1\n",
       "58       1\n",
       "113      1\n",
       "38       1\n",
       "137      1\n",
       "29       1\n",
       "131      1\n",
       "56       1\n",
       "72       1\n",
       "14       1\n",
       "Name: count, dtype: int64"
      ]
     },
     "execution_count": 279,
     "metadata": {},
     "output_type": "execute_result"
    }
   ],
   "source": [
    "df['description length'].value_counts()"
   ]
  },
  {
   "cell_type": "raw",
   "id": "3b971147-e7ce-4ac7-a693-31ce59d56f04",
   "metadata": {},
   "source": [
    "We need to compare description length with the fake (target).\n",
    "Group into categories"
   ]
  },
  {
   "cell_type": "code",
   "execution_count": 281,
   "id": "ec6bc517-93c6-4293-94aa-200fb52a1d8b",
   "metadata": {},
   "outputs": [
    {
     "name": "stdout",
     "output_type": "stream",
     "text": [
      "   profile pic  nums/length username  fullname words  nums/length fullname  \\\n",
      "0            1                  0.27               0                   0.0   \n",
      "1            1                  0.00               2                   0.0   \n",
      "2            1                  0.10               2                   0.0   \n",
      "3            1                  0.00               1                   0.0   \n",
      "4            1                  0.00               2                   0.0   \n",
      "\n",
      "   name==username  description length  external URL  private  #posts  \\\n",
      "0               0                  53             0        0      32   \n",
      "1               0                  44             0        0     286   \n",
      "2               0                   0             0        1      13   \n",
      "3               0                  82             0        0     679   \n",
      "4               0                   0             0        1       6   \n",
      "\n",
      "   #followers  #follows  fake username_num_ratio_cat fullname_num_ratio_cat  \\\n",
      "0        1000       955     0   Medium (Few numbers)       Low (No numbers)   \n",
      "1        2740       533     0       Low (No numbers)       Low (No numbers)   \n",
      "2         159        98     0   Medium (Few numbers)       Low (No numbers)   \n",
      "3         414       651     0       Low (No numbers)       Low (No numbers)   \n",
      "4         151       126     0       Low (No numbers)       Low (No numbers)   \n",
      "\n",
      "  bio_length_cat  \n",
      "0         Medium  \n",
      "1         Medium  \n",
      "2          Empty  \n",
      "3         Medium  \n",
      "4          Empty  \n"
     ]
    }
   ],
   "source": [
    "def bio_length_category(x):\n",
    "    if x == 0:\n",
    "        return \"Empty\"\n",
    "    elif x <= 20:\n",
    "        return \"Short\"\n",
    "    elif x <= 100:\n",
    "        return \"Medium\"\n",
    "    else:\n",
    "        return \"Long\"\n",
    "\n",
    "df['bio_length_cat'] = df['description length'].apply(bio_length_category)\n",
    "print(df.head())"
   ]
  },
  {
   "cell_type": "markdown",
   "id": "c908a0c7-e37d-4b44-831f-f8cf70615ad7",
   "metadata": {},
   "source": [
    "# Check fake/genuine distribution"
   ]
  },
  {
   "cell_type": "code",
   "execution_count": 284,
   "id": "c31a4d4f-34aa-4ffe-b579-b60920373390",
   "metadata": {},
   "outputs": [
    {
     "data": {
      "text/html": [
       "<div>\n",
       "<style scoped>\n",
       "    .dataframe tbody tr th:only-of-type {\n",
       "        vertical-align: middle;\n",
       "    }\n",
       "\n",
       "    .dataframe tbody tr th {\n",
       "        vertical-align: top;\n",
       "    }\n",
       "\n",
       "    .dataframe thead th {\n",
       "        text-align: right;\n",
       "    }\n",
       "</style>\n",
       "<table border=\"1\" class=\"dataframe\">\n",
       "  <thead>\n",
       "    <tr style=\"text-align: right;\">\n",
       "      <th>fake</th>\n",
       "      <th>0</th>\n",
       "      <th>1</th>\n",
       "    </tr>\n",
       "    <tr>\n",
       "      <th>bio_length_cat</th>\n",
       "      <th></th>\n",
       "      <th></th>\n",
       "    </tr>\n",
       "  </thead>\n",
       "  <tbody>\n",
       "    <tr>\n",
       "      <th>Empty</th>\n",
       "      <td>23.926380</td>\n",
       "      <td>76.073620</td>\n",
       "    </tr>\n",
       "    <tr>\n",
       "      <th>Long</th>\n",
       "      <td>90.243902</td>\n",
       "      <td>9.756098</td>\n",
       "    </tr>\n",
       "    <tr>\n",
       "      <th>Medium</th>\n",
       "      <td>86.896552</td>\n",
       "      <td>13.103448</td>\n",
       "    </tr>\n",
       "    <tr>\n",
       "      <th>Short</th>\n",
       "      <td>73.437500</td>\n",
       "      <td>26.562500</td>\n",
       "    </tr>\n",
       "  </tbody>\n",
       "</table>\n",
       "</div>"
      ],
      "text/plain": [
       "fake                    0          1\n",
       "bio_length_cat                      \n",
       "Empty           23.926380  76.073620\n",
       "Long            90.243902   9.756098\n",
       "Medium          86.896552  13.103448\n",
       "Short           73.437500  26.562500"
      ]
     },
     "execution_count": 284,
     "metadata": {},
     "output_type": "execute_result"
    }
   ],
   "source": [
    "pd.crosstab(df['bio_length_cat'], df['fake'], normalize='index') * 100"
   ]
  },
  {
   "cell_type": "markdown",
   "id": "9d54e7e1-44eb-4ddf-9dbf-0c20bb7d2bb3",
   "metadata": {},
   "source": [
    "# Visual check"
   ]
  },
  {
   "cell_type": "code",
   "execution_count": 287,
   "id": "a5c95a22-1443-46ed-9bd8-fdc465c0b776",
   "metadata": {},
   "outputs": [
    {
     "data": {
      "image/png": "[encoded data removed]",
      "text/plain": [
       "<Figure size 640x480 with 1 Axes>"
      ]
     },
     "metadata": {},
     "output_type": "display_data"
    }
   ],
   "source": [
    "sns.countplot(x='bio_length_cat', hue='fake', data=df)\n",
    "plt.title(\"Bio Length vs Fake/Genuine\")\n",
    "plt.xlabel(\"Bio Length Category\")\n",
    "plt.ylabel(\"Count\")\n",
    "plt.show()"
   ]
  },
  {
   "cell_type": "markdown",
   "id": "3703aa2d-4f8b-4f2f-a239-a8fafc6e2425",
   "metadata": {},
   "source": [
    "# Interpretation\n",
    "\n",
    "Empty bio: Higher fake chance.      \n",
    "Short bio: Mixed, but still suspicious.      \n",
    "Medium/Long bio: Mostly genuine."
   ]
  },
  {
   "cell_type": "markdown",
   "id": "c740182b-70de-4558-8691-5673e857831e",
   "metadata": {},
   "source": [
    "# 'external URL' Column"
   ]
  },
  {
   "cell_type": "code",
   "execution_count": 291,
   "id": "847951fe-2cf2-46b3-9365-74eaea2b08a0",
   "metadata": {},
   "outputs": [
    {
     "data": {
      "text/plain": [
       "external URL\n",
       "0    509\n",
       "1     67\n",
       "Name: count, dtype: int64"
      ]
     },
     "execution_count": 291,
     "metadata": {},
     "output_type": "execute_result"
    }
   ],
   "source": [
    "df['external URL'].value_counts()"
   ]
  },
  {
   "cell_type": "raw",
   "id": "c3f6836d-732f-45e3-8d4d-bba813a888f6",
   "metadata": {},
   "source": [
    "We can see the relationship between having a URL and being fake/genuine.\n",
    "Percentage table"
   ]
  },
  {
   "cell_type": "code",
   "execution_count": 293,
   "id": "97b1bc14-f02c-4fc7-a152-ac5e9e50e60e",
   "metadata": {},
   "outputs": [
    {
     "data": {
      "text/html": [
       "<div>\n",
       "<style scoped>\n",
       "    .dataframe tbody tr th:only-of-type {\n",
       "        vertical-align: middle;\n",
       "    }\n",
       "\n",
       "    .dataframe tbody tr th {\n",
       "        vertical-align: top;\n",
       "    }\n",
       "\n",
       "    .dataframe thead th {\n",
       "        text-align: right;\n",
       "    }\n",
       "</style>\n",
       "<table border=\"1\" class=\"dataframe\">\n",
       "  <thead>\n",
       "    <tr style=\"text-align: right;\">\n",
       "      <th>fake</th>\n",
       "      <th>0</th>\n",
       "      <th>1</th>\n",
       "    </tr>\n",
       "    <tr>\n",
       "      <th>external URL</th>\n",
       "      <th></th>\n",
       "      <th></th>\n",
       "    </tr>\n",
       "  </thead>\n",
       "  <tbody>\n",
       "    <tr>\n",
       "      <th>0</th>\n",
       "      <td>43.418468</td>\n",
       "      <td>56.581532</td>\n",
       "    </tr>\n",
       "    <tr>\n",
       "      <th>1</th>\n",
       "      <td>100.000000</td>\n",
       "      <td>0.000000</td>\n",
       "    </tr>\n",
       "  </tbody>\n",
       "</table>\n",
       "</div>"
      ],
      "text/plain": [
       "fake                   0          1\n",
       "external URL                       \n",
       "0              43.418468  56.581532\n",
       "1             100.000000   0.000000"
      ]
     },
     "execution_count": 293,
     "metadata": {},
     "output_type": "execute_result"
    }
   ],
   "source": [
    "import pandas as pd\n",
    "pd.crosstab(df['external URL'], df['fake'], normalize='index') * 100"
   ]
  },
  {
   "cell_type": "markdown",
   "id": "e463c97d-d442-4157-9bf3-3198a7e0463d",
   "metadata": {},
   "source": [
    "# Visual check"
   ]
  },
  {
   "cell_type": "code",
   "execution_count": 296,
   "id": "be8e7784-5005-4af0-be06-e76b211f9f30",
   "metadata": {},
   "outputs": [
    {
     "data": {
      "image/png": "[encoded data removed]",
      "text/plain": [
       "<Figure size 640x480 with 1 Axes>"
      ]
     },
     "metadata": {},
     "output_type": "display_data"
    }
   ],
   "source": [
    "sns.countplot(x='external URL', hue='fake', data=df)\n",
    "plt.title(\"External URL vs Fake/Genuine\")\n",
    "plt.xlabel(\"Has External URL (1 = Yes, 0 = No)\")\n",
    "plt.ylabel(\"Count\")\n",
    "plt.show()"
   ]
  },
  {
   "cell_type": "markdown",
   "id": "98d1b52d-27fe-4ff1-b1e2-36cf4d3a35f8",
   "metadata": {},
   "source": [
    "# Interpretation\n",
    "\n",
    "No URL(0): Could be fake or genuine.             \n",
    "Has URL(1):More likely genuine."
   ]
  },
  {
   "cell_type": "markdown",
   "id": "143fdc66-68b6-489f-a61c-a82abceefd7c",
   "metadata": {},
   "source": [
    "# 'private' Column   \n",
    "\n",
    "Genuine accounts(0): Public + external URL + many followers        \n",
    "Fake accounts(1): Private + 0 posts + 0 profile pic"
   ]
  },
  {
   "cell_type": "code",
   "execution_count": 300,
   "id": "64d3bf9b-dbf5-489f-a789-5dbe4f718600",
   "metadata": {},
   "outputs": [
    {
     "data": {
      "text/plain": [
       "private\n",
       "0    356\n",
       "1    220\n",
       "Name: count, dtype: int64"
      ]
     },
     "execution_count": 300,
     "metadata": {},
     "output_type": "execute_result"
    }
   ],
   "source": [
    "df['private'].value_counts()"
   ]
  },
  {
   "cell_type": "raw",
   "id": "34fc4f6b-d837-464b-9775-891a0d2774b3",
   "metadata": {},
   "source": [
    "compare private with the fake target.\n",
    "Percentage table"
   ]
  },
  {
   "cell_type": "code",
   "execution_count": 302,
   "id": "ea340445-78ae-41d6-ba29-73d41520cf6d",
   "metadata": {},
   "outputs": [
    {
     "data": {
      "text/html": [
       "<div>\n",
       "<style scoped>\n",
       "    .dataframe tbody tr th:only-of-type {\n",
       "        vertical-align: middle;\n",
       "    }\n",
       "\n",
       "    .dataframe tbody tr th {\n",
       "        vertical-align: top;\n",
       "    }\n",
       "\n",
       "    .dataframe thead th {\n",
       "        text-align: right;\n",
       "    }\n",
       "</style>\n",
       "<table border=\"1\" class=\"dataframe\">\n",
       "  <thead>\n",
       "    <tr style=\"text-align: right;\">\n",
       "      <th>fake</th>\n",
       "      <th>0</th>\n",
       "      <th>1</th>\n",
       "    </tr>\n",
       "    <tr>\n",
       "      <th>private</th>\n",
       "      <th></th>\n",
       "      <th></th>\n",
       "    </tr>\n",
       "  </thead>\n",
       "  <tbody>\n",
       "    <tr>\n",
       "      <th>0</th>\n",
       "      <td>48.876404</td>\n",
       "      <td>51.123596</td>\n",
       "    </tr>\n",
       "    <tr>\n",
       "      <th>1</th>\n",
       "      <td>51.818182</td>\n",
       "      <td>48.181818</td>\n",
       "    </tr>\n",
       "  </tbody>\n",
       "</table>\n",
       "</div>"
      ],
      "text/plain": [
       "fake             0          1\n",
       "private                      \n",
       "0        48.876404  51.123596\n",
       "1        51.818182  48.181818"
      ]
     },
     "execution_count": 302,
     "metadata": {},
     "output_type": "execute_result"
    }
   ],
   "source": [
    "pd.crosstab(df['private'], df['fake'], normalize='index') * 100"
   ]
  },
  {
   "cell_type": "markdown",
   "id": "ca54d48b-1c0e-479b-98e4-f68ce7858338",
   "metadata": {},
   "source": [
    "# Visual check"
   ]
  },
  {
   "cell_type": "code",
   "execution_count": 305,
   "id": "30c34885-f113-41ed-bb61-a091da18f5b9",
   "metadata": {},
   "outputs": [
    {
     "data": {
      "image/png": "[encoded data removed]",
      "text/plain": [
       "<Figure size 640x480 with 1 Axes>"
      ]
     },
     "metadata": {},
     "output_type": "display_data"
    }
   ],
   "source": [
    "sns.countplot(x='private', hue='fake', data=df)\n",
    "plt.title(\"Private Account vs Fake/Genuine\")\n",
    "plt.xlabel(\"Private (1 = Yes, 0 = No)\")\n",
    "plt.ylabel(\"Count\")\n",
    "plt.show()"
   ]
  },
  {
   "cell_type": "markdown",
   "id": "f8bf3679-fb41-44c9-bcc9-9ea2a2fdc1b1",
   "metadata": {},
   "source": [
    "# Interpretation\n",
    "\n",
    "Private(1): Slightly higher fake chance.       \n",
    "Public(0): More genuine."
   ]
  },
  {
   "cell_type": "markdown",
   "id": "7e7b2b41-40c9-4742-b339-d1d5e00b0897",
   "metadata": {},
   "source": [
    "# '#posts' Column   \n",
    "\n",
    "Fake accounts: Often have 0 posts Or very few posts.           \n",
    "Genuine accounts: Usually have many posts over time."
   ]
  },
  {
   "cell_type": "code",
   "execution_count": 309,
   "id": "81432b45-1810-4c02-b852-6de292b8a904",
   "metadata": {},
   "outputs": [
    {
     "data": {
      "text/plain": [
       "#posts\n",
       "0       157\n",
       "1        28\n",
       "2        22\n",
       "5        15\n",
       "3        14\n",
       "4        13\n",
       "8        12\n",
       "7        10\n",
       "12        9\n",
       "6         9\n",
       "9         9\n",
       "10        7\n",
       "13        6\n",
       "15        5\n",
       "28        5\n",
       "21        4\n",
       "111       4\n",
       "77        4\n",
       "24        4\n",
       "63        4\n",
       "16        4\n",
       "11        4\n",
       "59        4\n",
       "131       3\n",
       "65        3\n",
       "19        3\n",
       "26        3\n",
       "33        3\n",
       "14        3\n",
       "156       3\n",
       "74        3\n",
       "32        3\n",
       "25        3\n",
       "53        3\n",
       "142       2\n",
       "34        2\n",
       "43        2\n",
       "149       2\n",
       "301       2\n",
       "29        2\n",
       "22        2\n",
       "103       2\n",
       "31        2\n",
       "92        2\n",
       "38        2\n",
       "40        2\n",
       "197       2\n",
       "85        2\n",
       "126       2\n",
       "20        2\n",
       "98        2\n",
       "108       2\n",
       "36        2\n",
       "69        2\n",
       "62        2\n",
       "44        2\n",
       "222       2\n",
       "93        2\n",
       "52        2\n",
       "334       2\n",
       "17        2\n",
       "75        2\n",
       "18        2\n",
       "57        2\n",
       "91        2\n",
       "201       1\n",
       "145       1\n",
       "135       1\n",
       "117       1\n",
       "119       1\n",
       "54        1\n",
       "112       1\n",
       "487       1\n",
       "133       1\n",
       "70        1\n",
       "403       1\n",
       "990       1\n",
       "411       1\n",
       "192       1\n",
       "94        1\n",
       "56        1\n",
       "389       1\n",
       "373       1\n",
       "81        1\n",
       "80        1\n",
       "165       1\n",
       "254       1\n",
       "917       1\n",
       "130       1\n",
       "664       1\n",
       "64        1\n",
       "663       1\n",
       "1570      1\n",
       "83        1\n",
       "217       1\n",
       "78        1\n",
       "144       1\n",
       "327       1\n",
       "23        1\n",
       "37        1\n",
       "299       1\n",
       "84        1\n",
       "679       1\n",
       "150       1\n",
       "124       1\n",
       "39        1\n",
       "141       1\n",
       "30        1\n",
       "1232      1\n",
       "241       1\n",
       "344       1\n",
       "42        1\n",
       "283       1\n",
       "378       1\n",
       "72        1\n",
       "89        1\n",
       "95        1\n",
       "560       1\n",
       "353       1\n",
       "213       1\n",
       "51        1\n",
       "204       1\n",
       "247       1\n",
       "648       1\n",
       "76        1\n",
       "298       1\n",
       "240       1\n",
       "86        1\n",
       "252       1\n",
       "35        1\n",
       "526       1\n",
       "101       1\n",
       "388       1\n",
       "189       1\n",
       "559       1\n",
       "420       1\n",
       "433       1\n",
       "232       1\n",
       "58        1\n",
       "4494      1\n",
       "49        1\n",
       "698       1\n",
       "61        1\n",
       "751       1\n",
       "157       1\n",
       "27        1\n",
       "775       1\n",
       "580       1\n",
       "221       1\n",
       "227       1\n",
       "172       1\n",
       "262       1\n",
       "106       1\n",
       "274       1\n",
       "271       1\n",
       "713       1\n",
       "122       1\n",
       "400       1\n",
       "200       1\n",
       "661       1\n",
       "7389      1\n",
       "205       1\n",
       "228       1\n",
       "161       1\n",
       "100       1\n",
       "396       1\n",
       "1159      1\n",
       "220       1\n",
       "60        1\n",
       "281       1\n",
       "158       1\n",
       "285       1\n",
       "1020      1\n",
       "921       1\n",
       "148       1\n",
       "511       1\n",
       "280       1\n",
       "328       1\n",
       "209       1\n",
       "230       1\n",
       "571       1\n",
       "137       1\n",
       "980       1\n",
       "719       1\n",
       "1164      1\n",
       "497       1\n",
       "107       1\n",
       "114       1\n",
       "711       1\n",
       "416       1\n",
       "50        1\n",
       "286       1\n",
       "102       1\n",
       "Name: count, dtype: int64"
      ]
     },
     "execution_count": 309,
     "metadata": {},
     "output_type": "execute_result"
    }
   ],
   "source": [
    "df['#posts'].value_counts()"
   ]
  },
  {
   "cell_type": "markdown",
   "id": "5585ba84-4399-466d-9343-539bb647eea9",
   "metadata": {},
   "source": [
    "# Group them into ranges"
   ]
  },
  {
   "cell_type": "code",
   "execution_count": 312,
   "id": "40830a33-db72-47df-a7a3-03a58873f44a",
   "metadata": {},
   "outputs": [
    {
     "name": "stdout",
     "output_type": "stream",
     "text": [
      "   profile pic  nums/length username  fullname words  nums/length fullname  \\\n",
      "0            1                  0.27               0                   0.0   \n",
      "1            1                  0.00               2                   0.0   \n",
      "2            1                  0.10               2                   0.0   \n",
      "3            1                  0.00               1                   0.0   \n",
      "4            1                  0.00               2                   0.0   \n",
      "\n",
      "   name==username  description length  external URL  private  #posts  \\\n",
      "0               0                  53             0        0      32   \n",
      "1               0                  44             0        0     286   \n",
      "2               0                   0             0        1      13   \n",
      "3               0                  82             0        0     679   \n",
      "4               0                   0             0        1       6   \n",
      "\n",
      "   #followers  #follows  fake username_num_ratio_cat fullname_num_ratio_cat  \\\n",
      "0        1000       955     0   Medium (Few numbers)       Low (No numbers)   \n",
      "1        2740       533     0       Low (No numbers)       Low (No numbers)   \n",
      "2         159        98     0   Medium (Few numbers)       Low (No numbers)   \n",
      "3         414       651     0       Low (No numbers)       Low (No numbers)   \n",
      "4         151       126     0       Low (No numbers)       Low (No numbers)   \n",
      "\n",
      "  bio_length_cat  post_count_cat  \n",
      "0         Medium  Moderate posts  \n",
      "1         Medium      Many posts  \n",
      "2          Empty  Moderate posts  \n",
      "3         Medium      Many posts  \n",
      "4          Empty  Moderate posts  \n"
     ]
    }
   ],
   "source": [
    "def post_count_category(x):\n",
    "    if x == 0:\n",
    "        return \"No posts\"\n",
    "    elif x <= 5:\n",
    "        return \"Few posts\"\n",
    "    elif x <= 50:\n",
    "        return \"Moderate posts\"\n",
    "    else:\n",
    "        return \"Many posts\"\n",
    "\n",
    "df['post_count_cat'] = df['#posts'].apply(post_count_category)\n",
    "print(df.head())"
   ]
  },
  {
   "cell_type": "code",
   "execution_count": 314,
   "id": "5968baae-6120-491f-bbea-fe9cdbe808d4",
   "metadata": {},
   "outputs": [
    {
     "data": {
      "text/plain": [
       "post_count_cat\n",
       "Many posts        188\n",
       "No posts          157\n",
       "Moderate posts    139\n",
       "Few posts          92\n",
       "Name: count, dtype: int64"
      ]
     },
     "execution_count": 314,
     "metadata": {},
     "output_type": "execute_result"
    }
   ],
   "source": [
    "df['post_count_cat'].value_counts()"
   ]
  },
  {
   "cell_type": "raw",
   "id": "84baac29-ec12-4bfd-9b91-216ac9976b04",
   "metadata": {},
   "source": [
    "Check fake/genuine distribution"
   ]
  },
  {
   "cell_type": "code",
   "execution_count": 316,
   "id": "a412dd37-fc60-463c-b8e6-466928a6cb60",
   "metadata": {},
   "outputs": [
    {
     "data": {
      "text/html": [
       "<div>\n",
       "<style scoped>\n",
       "    .dataframe tbody tr th:only-of-type {\n",
       "        vertical-align: middle;\n",
       "    }\n",
       "\n",
       "    .dataframe tbody tr th {\n",
       "        vertical-align: top;\n",
       "    }\n",
       "\n",
       "    .dataframe thead th {\n",
       "        text-align: right;\n",
       "    }\n",
       "</style>\n",
       "<table border=\"1\" class=\"dataframe\">\n",
       "  <thead>\n",
       "    <tr style=\"text-align: right;\">\n",
       "      <th>fake</th>\n",
       "      <th>0</th>\n",
       "      <th>1</th>\n",
       "    </tr>\n",
       "    <tr>\n",
       "      <th>post_count_cat</th>\n",
       "      <th></th>\n",
       "      <th></th>\n",
       "    </tr>\n",
       "  </thead>\n",
       "  <tbody>\n",
       "    <tr>\n",
       "      <th>Few posts</th>\n",
       "      <td>23.913043</td>\n",
       "      <td>76.086957</td>\n",
       "    </tr>\n",
       "    <tr>\n",
       "      <th>Many posts</th>\n",
       "      <td>93.085106</td>\n",
       "      <td>6.914894</td>\n",
       "    </tr>\n",
       "    <tr>\n",
       "      <th>Moderate posts</th>\n",
       "      <td>62.589928</td>\n",
       "      <td>37.410072</td>\n",
       "    </tr>\n",
       "    <tr>\n",
       "      <th>No posts</th>\n",
       "      <td>2.547771</td>\n",
       "      <td>97.452229</td>\n",
       "    </tr>\n",
       "  </tbody>\n",
       "</table>\n",
       "</div>"
      ],
      "text/plain": [
       "fake                    0          1\n",
       "post_count_cat                      \n",
       "Few posts       23.913043  76.086957\n",
       "Many posts      93.085106   6.914894\n",
       "Moderate posts  62.589928  37.410072\n",
       "No posts         2.547771  97.452229"
      ]
     },
     "execution_count": 316,
     "metadata": {},
     "output_type": "execute_result"
    }
   ],
   "source": [
    "pd.crosstab(df['post_count_cat'], df['fake'], normalize='index') * 100"
   ]
  },
  {
   "cell_type": "markdown",
   "id": "ea4260d9-fb45-4a27-9a80-5b4d6c5ab0db",
   "metadata": {},
   "source": [
    "# Visual check"
   ]
  },
  {
   "cell_type": "code",
   "execution_count": 127,
   "id": "083ee3f6-4384-4cb4-b671-f00cd50313ca",
   "metadata": {},
   "outputs": [
    {
     "data": {
      "image/png": "[encoded data removed]",
      "text/plain": [
       "<Figure size 640x480 with 1 Axes>"
      ]
     },
     "metadata": {},
     "output_type": "display_data"
    }
   ],
   "source": [
    "sns.countplot(x='post_count_cat', hue='fake', data=df)\n",
    "plt.title(\"Post Count vs Fake/Genuine\")\n",
    "plt.xlabel(\"Post Count Category\")\n",
    "plt.ylabel(\"Count\")\n",
    "plt.show()"
   ]
  },
  {
   "cell_type": "markdown",
   "id": "21ffa59b-9b41-4ebd-8faa-bcbcf6240783",
   "metadata": {},
   "source": [
    "# Interpretation\n",
    "\n",
    "No posts(0): Mostly fake.      \n",
    "Few posts(1–5): Many fakes, some genuine.           \n",
    "Moderate(6–50): Mostly genuine.               \n",
    "Many posts(>50): Highly likely genuine."
   ]
  },
  {
   "cell_type": "markdown",
   "id": "08c2aafb-d2fe-436e-816b-7d6ee9e86712",
   "metadata": {},
   "source": [
    "# '#followers' Column\n",
    "\n",
    "Fake accounts often have: Very few followers(0–10)               \n",
    "Genuine accounts often have: More followers"
   ]
  },
  {
   "cell_type": "code",
   "execution_count": 321,
   "id": "1b9bc96e-c9d4-4077-85ac-f20f8ec4e01f",
   "metadata": {},
   "outputs": [
    {
     "data": {
      "text/plain": [
       "#followers\n",
       "0           18\n",
       "49           9\n",
       "16           8\n",
       "15           8\n",
       "1            7\n",
       "5            7\n",
       "34           6\n",
       "77           6\n",
       "39           5\n",
       "12           5\n",
       "40           5\n",
       "21           5\n",
       "42           5\n",
       "2            5\n",
       "23           4\n",
       "10           4\n",
       "178          4\n",
       "47           4\n",
       "57           4\n",
       "31           4\n",
       "32           4\n",
       "26           4\n",
       "51           4\n",
       "59           4\n",
       "9            3\n",
       "19           3\n",
       "96           3\n",
       "265          3\n",
       "66           3\n",
       "99           3\n",
       "162          3\n",
       "43           3\n",
       "17           3\n",
       "53           3\n",
       "18           3\n",
       "7            3\n",
       "48           3\n",
       "25           3\n",
       "50           3\n",
       "24           3\n",
       "55           3\n",
       "8            3\n",
       "6            3\n",
       "4            3\n",
       "13           3\n",
       "218          3\n",
       "33           2\n",
       "87           2\n",
       "38           2\n",
       "1456         2\n",
       "668          2\n",
       "104          2\n",
       "115          2\n",
       "70           2\n",
       "122          2\n",
       "166          2\n",
       "3            2\n",
       "138          2\n",
       "206          2\n",
       "494          2\n",
       "417          2\n",
       "5282         2\n",
       "106          2\n",
       "1204         2\n",
       "135          2\n",
       "82           2\n",
       "3003         2\n",
       "75           2\n",
       "14           2\n",
       "85           2\n",
       "52           2\n",
       "20           2\n",
       "45           2\n",
       "37           2\n",
       "60           2\n",
       "90           2\n",
       "272          2\n",
       "120          2\n",
       "167          2\n",
       "150          2\n",
       "35           2\n",
       "505          2\n",
       "159          2\n",
       "46           2\n",
       "389          2\n",
       "64           2\n",
       "318          2\n",
       "11           2\n",
       "124          2\n",
       "108          2\n",
       "67           2\n",
       "346          1\n",
       "1746         1\n",
       "254          1\n",
       "335          1\n",
       "1167         1\n",
       "1070         1\n",
       "298          1\n",
       "433          1\n",
       "18515        1\n",
       "8578         1\n",
       "300          1\n",
       "410          1\n",
       "5863         1\n",
       "4347         1\n",
       "319          1\n",
       "189          1\n",
       "743          1\n",
       "11204        1\n",
       "419          1\n",
       "81           1\n",
       "947          1\n",
       "541          1\n",
       "392          1\n",
       "4177         1\n",
       "425          1\n",
       "711          1\n",
       "89           1\n",
       "742          1\n",
       "1152         1\n",
       "31182        1\n",
       "195          1\n",
       "10794        1\n",
       "537          1\n",
       "355          1\n",
       "617          1\n",
       "139          1\n",
       "606          1\n",
       "428          1\n",
       "1261         1\n",
       "68           1\n",
       "1677         1\n",
       "205558       1\n",
       "268          1\n",
       "1000         1\n",
       "805          1\n",
       "136          1\n",
       "182          1\n",
       "119          1\n",
       "818          1\n",
       "102          1\n",
       "576          1\n",
       "310          1\n",
       "88           1\n",
       "61           1\n",
       "358          1\n",
       "78           1\n",
       "30           1\n",
       "92           1\n",
       "22           1\n",
       "86           1\n",
       "207          1\n",
       "1504         1\n",
       "356          1\n",
       "44           1\n",
       "3033         1\n",
       "210          1\n",
       "1489         1\n",
       "201          1\n",
       "351          1\n",
       "156          1\n",
       "97           1\n",
       "2346         1\n",
       "332          1\n",
       "65           1\n",
       "72           1\n",
       "58           1\n",
       "834          1\n",
       "1031         1\n",
       "143          1\n",
       "27           1\n",
       "380          1\n",
       "257          1\n",
       "1775         1\n",
       "1051         1\n",
       "220          1\n",
       "728          1\n",
       "406          1\n",
       "56           1\n",
       "271          1\n",
       "158          1\n",
       "107          1\n",
       "516          1\n",
       "76           1\n",
       "165          1\n",
       "79           1\n",
       "316          1\n",
       "221          1\n",
       "181          1\n",
       "133          1\n",
       "864          1\n",
       "73           1\n",
       "184          1\n",
       "161          1\n",
       "279          1\n",
       "219          1\n",
       "83           1\n",
       "140          1\n",
       "446          1\n",
       "589          1\n",
       "8711         1\n",
       "1761         1\n",
       "416          1\n",
       "320377       1\n",
       "539          1\n",
       "10240        1\n",
       "18842        1\n",
       "223          1\n",
       "1582         1\n",
       "51145        1\n",
       "802          1\n",
       "384          1\n",
       "1843         1\n",
       "132          1\n",
       "404          1\n",
       "1759         1\n",
       "313          1\n",
       "7217         1\n",
       "812          1\n",
       "2118         1\n",
       "1798         1\n",
       "1476         1\n",
       "399          1\n",
       "581          1\n",
       "266          1\n",
       "470          1\n",
       "4328         1\n",
       "699          1\n",
       "1312         1\n",
       "2556         1\n",
       "565          1\n",
       "815          1\n",
       "1068         1\n",
       "1926         1\n",
       "1135         1\n",
       "4594         1\n",
       "1267         1\n",
       "741          1\n",
       "824          1\n",
       "91446        1\n",
       "1439         1\n",
       "17303        1\n",
       "807          1\n",
       "369          1\n",
       "380510       1\n",
       "2441         1\n",
       "12033        1\n",
       "1809         1\n",
       "3516         1\n",
       "2338         1\n",
       "34670        1\n",
       "1128         1\n",
       "7007         1\n",
       "50374        1\n",
       "1962         1\n",
       "945          1\n",
       "12397719     1\n",
       "1188         1\n",
       "9884         1\n",
       "12945        1\n",
       "1824         1\n",
       "1078         1\n",
       "669987       1\n",
       "151          1\n",
       "414          1\n",
       "427          1\n",
       "759          1\n",
       "15338538     1\n",
       "109          1\n",
       "92192        1\n",
       "3678         1\n",
       "361853       1\n",
       "890969       1\n",
       "105          1\n",
       "691          1\n",
       "267          1\n",
       "5315651      1\n",
       "542073       1\n",
       "744          1\n",
       "177          1\n",
       "966          1\n",
       "687          1\n",
       "186          1\n",
       "2284         1\n",
       "121354       1\n",
       "536          1\n",
       "2487         1\n",
       "673          1\n",
       "730          1\n",
       "585          1\n",
       "1298         1\n",
       "876          1\n",
       "45834        1\n",
       "1158         1\n",
       "533          1\n",
       "39867        1\n",
       "714          1\n",
       "722          1\n",
       "1247         1\n",
       "289          1\n",
       "114          1\n",
       "326946       1\n",
       "255          1\n",
       "137          1\n",
       "357          1\n",
       "229          1\n",
       "125          1\n",
       "303          1\n",
       "3800         1\n",
       "1358         1\n",
       "6741307      1\n",
       "791          1\n",
       "1008         1\n",
       "738          1\n",
       "1013         1\n",
       "259          1\n",
       "3896490      1\n",
       "173          1\n",
       "875          1\n",
       "393          1\n",
       "228          1\n",
       "2740         1\n",
       "781          1\n",
       "751          1\n",
       "984          1\n",
       "244          1\n",
       "309          1\n",
       "373          1\n",
       "732075       1\n",
       "408          1\n",
       "483          1\n",
       "14222        1\n",
       "765          1\n",
       "916          1\n",
       "492          1\n",
       "193          1\n",
       "497          1\n",
       "971          1\n",
       "456          1\n",
       "490          1\n",
       "748          1\n",
       "331          1\n",
       "205          1\n",
       "1113         1\n",
       "796          1\n",
       "459          1\n",
       "5406         1\n",
       "2756         1\n",
       "19512        1\n",
       "3551         1\n",
       "196          1\n",
       "634          1\n",
       "1662         1\n",
       "1383         1\n",
       "655          1\n",
       "870          1\n",
       "881          1\n",
       "216          1\n",
       "2719         1\n",
       "622          1\n",
       "2598         1\n",
       "941          1\n",
       "413          1\n",
       "1057         1\n",
       "464          1\n",
       "27477        1\n",
       "553          1\n",
       "192          1\n",
       "200          1\n",
       "484          1\n",
       "650          1\n",
       "126          1\n",
       "Name: count, dtype: int64"
      ]
     },
     "execution_count": 321,
     "metadata": {},
     "output_type": "execute_result"
    }
   ],
   "source": [
    "df['#followers'].value_counts()"
   ]
  },
  {
   "cell_type": "raw",
   "id": "7cbf0578-a447-4865-9e2e-adef2c27daa0",
   "metadata": {},
   "source": [
    "group them for EDA"
   ]
  },
  {
   "cell_type": "code",
   "execution_count": 323,
   "id": "3b7a8e21-7d17-4b74-8b1a-e5b6c12560ae",
   "metadata": {},
   "outputs": [
    {
     "name": "stdout",
     "output_type": "stream",
     "text": [
      "   profile pic  nums/length username  fullname words  nums/length fullname  \\\n",
      "0            1                  0.27               0                   0.0   \n",
      "1            1                  0.00               2                   0.0   \n",
      "2            1                  0.10               2                   0.0   \n",
      "3            1                  0.00               1                   0.0   \n",
      "4            1                  0.00               2                   0.0   \n",
      "\n",
      "   name==username  description length  external URL  private  #posts  \\\n",
      "0               0                  53             0        0      32   \n",
      "1               0                  44             0        0     286   \n",
      "2               0                   0             0        1      13   \n",
      "3               0                  82             0        0     679   \n",
      "4               0                   0             0        1       6   \n",
      "\n",
      "   #followers  #follows  fake username_num_ratio_cat fullname_num_ratio_cat  \\\n",
      "0        1000       955     0   Medium (Few numbers)       Low (No numbers)   \n",
      "1        2740       533     0       Low (No numbers)       Low (No numbers)   \n",
      "2         159        98     0   Medium (Few numbers)       Low (No numbers)   \n",
      "3         414       651     0       Low (No numbers)       Low (No numbers)   \n",
      "4         151       126     0       Low (No numbers)       Low (No numbers)   \n",
      "\n",
      "  bio_length_cat  post_count_cat follower_count_cat  \n",
      "0         Medium  Moderate posts    Medium (101–1K)  \n",
      "1         Medium      Many posts         High (>1K)  \n",
      "2          Empty  Moderate posts    Medium (101–1K)  \n",
      "3         Medium      Many posts    Medium (101–1K)  \n",
      "4          Empty  Moderate posts    Medium (101–1K)  \n"
     ]
    }
   ],
   "source": [
    "def follower_count_category(x):\n",
    "    if x <= 10:\n",
    "        return \"Very Low (0–10)\"\n",
    "    elif x <= 100:\n",
    "        return \"Low (11–100)\"\n",
    "    elif x <= 1000:\n",
    "        return \"Medium (101–1K)\"\n",
    "    else:\n",
    "        return \"High (>1K)\"\n",
    "\n",
    "df['follower_count_cat'] = df['#followers'].apply(follower_count_category)\n",
    "print(df.head())"
   ]
  },
  {
   "cell_type": "raw",
   "id": "d1b3a3a2-e1eb-4efa-93d4-e3933f31779e",
   "metadata": {},
   "source": [
    "Check fake/genuine distribution"
   ]
  },
  {
   "cell_type": "code",
   "execution_count": 325,
   "id": "537a88bb-ce7d-4e7b-b99b-9dab845bb20d",
   "metadata": {},
   "outputs": [
    {
     "data": {
      "text/html": [
       "<div>\n",
       "<style scoped>\n",
       "    .dataframe tbody tr th:only-of-type {\n",
       "        vertical-align: middle;\n",
       "    }\n",
       "\n",
       "    .dataframe tbody tr th {\n",
       "        vertical-align: top;\n",
       "    }\n",
       "\n",
       "    .dataframe thead th {\n",
       "        text-align: right;\n",
       "    }\n",
       "</style>\n",
       "<table border=\"1\" class=\"dataframe\">\n",
       "  <thead>\n",
       "    <tr style=\"text-align: right;\">\n",
       "      <th>fake</th>\n",
       "      <th>0</th>\n",
       "      <th>1</th>\n",
       "    </tr>\n",
       "    <tr>\n",
       "      <th>follower_count_cat</th>\n",
       "      <th></th>\n",
       "      <th></th>\n",
       "    </tr>\n",
       "  </thead>\n",
       "  <tbody>\n",
       "    <tr>\n",
       "      <th>High (&gt;1K)</th>\n",
       "      <td>95.370370</td>\n",
       "      <td>4.629630</td>\n",
       "    </tr>\n",
       "    <tr>\n",
       "      <th>Low (11–100)</th>\n",
       "      <td>11.282051</td>\n",
       "      <td>88.717949</td>\n",
       "    </tr>\n",
       "    <tr>\n",
       "      <th>Medium (101–1K)</th>\n",
       "      <td>75.348837</td>\n",
       "      <td>24.651163</td>\n",
       "    </tr>\n",
       "    <tr>\n",
       "      <th>Very Low (0–10)</th>\n",
       "      <td>1.724138</td>\n",
       "      <td>98.275862</td>\n",
       "    </tr>\n",
       "  </tbody>\n",
       "</table>\n",
       "</div>"
      ],
      "text/plain": [
       "fake                        0          1\n",
       "follower_count_cat                      \n",
       "High (>1K)          95.370370   4.629630\n",
       "Low (11–100)        11.282051  88.717949\n",
       "Medium (101–1K)     75.348837  24.651163\n",
       "Very Low (0–10)      1.724138  98.275862"
      ]
     },
     "execution_count": 325,
     "metadata": {},
     "output_type": "execute_result"
    }
   ],
   "source": [
    "pd.crosstab(df['follower_count_cat'], df['fake'], normalize='index') * 100"
   ]
  },
  {
   "cell_type": "markdown",
   "id": "00b71e06-141d-4afe-992c-8584d7472937",
   "metadata": {},
   "source": [
    "# Visual check"
   ]
  },
  {
   "cell_type": "code",
   "execution_count": 328,
   "id": "5b5a9786-caad-4004-80c9-e15c1c57ee9d",
   "metadata": {},
   "outputs": [
    {
     "data": {
      "image/png": "[encoded data removed]",
      "text/plain": [
       "<Figure size 640x480 with 1 Axes>"
      ]
     },
     "metadata": {},
     "output_type": "display_data"
    }
   ],
   "source": [
    "sns.countplot(x='follower_count_cat', hue='fake', data=df)\n",
    "plt.title(\"Followers Count vs Fake/Genuine\")\n",
    "plt.xlabel(\"Followers Category\")\n",
    "plt.ylabel(\"Count\")\n",
    "plt.show()"
   ]
  },
  {
   "cell_type": "markdown",
   "id": "d894ff8b-a07f-452a-90c2-57f4e1d89352",
   "metadata": {},
   "source": [
    "# Interpretation\n",
    "\n",
    "0–10 followers: Mostly fake.             \n",
    "11–100: Many fakes, some genuine.             \n",
    "101–1K: Mostly genuine.           \n",
    "#>1K: Highly likely genuine."
   ]
  },
  {
   "cell_type": "markdown",
   "id": "31089e83-0b59-42cd-a095-1489d82cba69",
   "metadata": {},
   "source": [
    "# '#follows' column\n",
    "\n",
    "Fake accounts often: Follow very many accounts (hundreds or thousands).                     \n",
    "                   : Have a high follows-to-followers ratio.               \n",
    "Genuine accounts usually: Follow a moderate number of people.                \n",
    "                        : Have a more balanced follows-to-followers ratio."
   ]
  },
  {
   "cell_type": "code",
   "execution_count": 332,
   "id": "68b60fc4-383c-4d6d-80ad-2c76b9a907df",
   "metadata": {},
   "outputs": [
    {
     "data": {
      "text/plain": [
       "#follows\n",
       "0       11\n",
       "1        6\n",
       "26       6\n",
       "37       5\n",
       "22       5\n",
       "76       5\n",
       "8        5\n",
       "11       5\n",
       "333      5\n",
       "44       4\n",
       "64       4\n",
       "2        4\n",
       "16       4\n",
       "4        4\n",
       "15       4\n",
       "98       4\n",
       "46       3\n",
       "208      3\n",
       "177      3\n",
       "49       3\n",
       "20       3\n",
       "87       3\n",
       "413      3\n",
       "38       3\n",
       "82       3\n",
       "6        3\n",
       "151      3\n",
       "23       3\n",
       "60       3\n",
       "17       3\n",
       "48       3\n",
       "164      3\n",
       "52       3\n",
       "130      3\n",
       "694      3\n",
       "45       3\n",
       "61       3\n",
       "24       2\n",
       "71       2\n",
       "748      2\n",
       "215      2\n",
       "56       2\n",
       "802      2\n",
       "108      2\n",
       "66       2\n",
       "35       2\n",
       "899      2\n",
       "3        2\n",
       "489      2\n",
       "41       2\n",
       "360      2\n",
       "395      2\n",
       "88       2\n",
       "30       2\n",
       "25       2\n",
       "935      2\n",
       "1155     2\n",
       "438      2\n",
       "229      2\n",
       "75       2\n",
       "28       2\n",
       "139      2\n",
       "305      2\n",
       "167      2\n",
       "40       2\n",
       "111      2\n",
       "638      2\n",
       "529      2\n",
       "80       2\n",
       "7500     2\n",
       "387      2\n",
       "55       2\n",
       "178      2\n",
       "36       2\n",
       "689      2\n",
       "39       2\n",
       "34       2\n",
       "27       2\n",
       "13       2\n",
       "408      2\n",
       "157      2\n",
       "555      2\n",
       "289      2\n",
       "112      2\n",
       "583      2\n",
       "618      2\n",
       "999      2\n",
       "652      2\n",
       "121      2\n",
       "179      2\n",
       "170      2\n",
       "176      2\n",
       "261      2\n",
       "5        2\n",
       "161      2\n",
       "77       2\n",
       "126      2\n",
       "345      2\n",
       "32       2\n",
       "58       2\n",
       "10       2\n",
       "9        2\n",
       "488      2\n",
       "137      2\n",
       "292      2\n",
       "31       2\n",
       "426      1\n",
       "300      1\n",
       "750      1\n",
       "1631     1\n",
       "53       1\n",
       "47       1\n",
       "1072     1\n",
       "244      1\n",
       "129      1\n",
       "86       1\n",
       "609      1\n",
       "1165     1\n",
       "279      1\n",
       "370      1\n",
       "1002     1\n",
       "3646     1\n",
       "213      1\n",
       "42       1\n",
       "18       1\n",
       "853      1\n",
       "309      1\n",
       "445      1\n",
       "601      1\n",
       "168      1\n",
       "114      1\n",
       "230      1\n",
       "294      1\n",
       "1213     1\n",
       "81       1\n",
       "323      1\n",
       "236      1\n",
       "264      1\n",
       "1200     1\n",
       "767      1\n",
       "79       1\n",
       "91       1\n",
       "462      1\n",
       "119      1\n",
       "346      1\n",
       "955      1\n",
       "1124     1\n",
       "3715     1\n",
       "1528     1\n",
       "825      1\n",
       "153      1\n",
       "240      1\n",
       "2176     1\n",
       "12       1\n",
       "828      1\n",
       "2426     1\n",
       "1417     1\n",
       "1029     1\n",
       "403      1\n",
       "83       1\n",
       "747      1\n",
       "792      1\n",
       "7        1\n",
       "1990     1\n",
       "595      1\n",
       "1543     1\n",
       "812      1\n",
       "1269     1\n",
       "2663     1\n",
       "73       1\n",
       "339      1\n",
       "596      1\n",
       "698      1\n",
       "860      1\n",
       "242      1\n",
       "347      1\n",
       "434      1\n",
       "162      1\n",
       "542      1\n",
       "1333     1\n",
       "19       1\n",
       "95       1\n",
       "7272     1\n",
       "51       1\n",
       "477      1\n",
       "423      1\n",
       "14       1\n",
       "433      1\n",
       "155      1\n",
       "181      1\n",
       "135      1\n",
       "500      1\n",
       "63       1\n",
       "2980     1\n",
       "545      1\n",
       "1762     1\n",
       "99       1\n",
       "104      1\n",
       "249      1\n",
       "733      1\n",
       "420      1\n",
       "29       1\n",
       "319      1\n",
       "69       1\n",
       "68       1\n",
       "171      1\n",
       "106      1\n",
       "192      1\n",
       "146      1\n",
       "2330     1\n",
       "92       1\n",
       "59       1\n",
       "894      1\n",
       "474      1\n",
       "109      1\n",
       "233      1\n",
       "74       1\n",
       "295      1\n",
       "136      1\n",
       "336      1\n",
       "90       1\n",
       "303      1\n",
       "123      1\n",
       "304      1\n",
       "227      1\n",
       "221      1\n",
       "392      1\n",
       "4118     1\n",
       "2187     1\n",
       "716      1\n",
       "430      1\n",
       "288      1\n",
       "1925     1\n",
       "1410     1\n",
       "1713     1\n",
       "1440     1\n",
       "526      1\n",
       "629      1\n",
       "256      1\n",
       "675      1\n",
       "245      1\n",
       "266      1\n",
       "998      1\n",
       "324      1\n",
       "362      1\n",
       "163      1\n",
       "568      1\n",
       "452      1\n",
       "639      1\n",
       "1255     1\n",
       "469      1\n",
       "1074     1\n",
       "599      1\n",
       "418      1\n",
       "270      1\n",
       "3296     1\n",
       "703      1\n",
       "719      1\n",
       "424      1\n",
       "209      1\n",
       "1142     1\n",
       "132      1\n",
       "2047     1\n",
       "1093     1\n",
       "4659     1\n",
       "1854     1\n",
       "390      1\n",
       "589      1\n",
       "591      1\n",
       "173      1\n",
       "222      1\n",
       "744      1\n",
       "1882     1\n",
       "372      1\n",
       "1878     1\n",
       "952      1\n",
       "1517     1\n",
       "174      1\n",
       "665      1\n",
       "956      1\n",
       "470      1\n",
       "416      1\n",
       "776      1\n",
       "900      1\n",
       "528      1\n",
       "2701     1\n",
       "248      1\n",
       "365      1\n",
       "1173     1\n",
       "813      1\n",
       "2713     1\n",
       "150      1\n",
       "651      1\n",
       "967      1\n",
       "674      1\n",
       "2703     1\n",
       "328      1\n",
       "100      1\n",
       "447      1\n",
       "97       1\n",
       "228      1\n",
       "598      1\n",
       "283      1\n",
       "643      1\n",
       "376      1\n",
       "761      1\n",
       "432      1\n",
       "1109     1\n",
       "461      1\n",
       "666      1\n",
       "546      1\n",
       "183      1\n",
       "1359     1\n",
       "680      1\n",
       "65       1\n",
       "610      1\n",
       "7202     1\n",
       "1371     1\n",
       "67       1\n",
       "1000     1\n",
       "584      1\n",
       "463      1\n",
       "396      1\n",
       "517      1\n",
       "544      1\n",
       "996      1\n",
       "133      1\n",
       "1039     1\n",
       "351      1\n",
       "373      1\n",
       "754      1\n",
       "502      1\n",
       "238      1\n",
       "523      1\n",
       "905      1\n",
       "1223     1\n",
       "533      1\n",
       "272      1\n",
       "414      1\n",
       "335      1\n",
       "569      1\n",
       "3164     1\n",
       "107      1\n",
       "50       1\n",
       "653      1\n",
       "673      1\n",
       "917      1\n",
       "1486     1\n",
       "321      1\n",
       "3678     1\n",
       "237      1\n",
       "701      1\n",
       "582      1\n",
       "268      1\n",
       "271      1\n",
       "124      1\n",
       "331      1\n",
       "149      1\n",
       "172      1\n",
       "364      1\n",
       "101      1\n",
       "635      1\n",
       "2928     1\n",
       "1216     1\n",
       "7399     1\n",
       "1065     1\n",
       "1016     1\n",
       "633      1\n",
       "371      1\n",
       "72       1\n",
       "375      1\n",
       "1061     1\n",
       "475      1\n",
       "1208     1\n",
       "503      1\n",
       "806      1\n",
       "138      1\n",
       "524      1\n",
       "417      1\n",
       "383      1\n",
       "311      1\n",
       "96       1\n",
       "363      1\n",
       "456      1\n",
       "127      1\n",
       "278      1\n",
       "407      1\n",
       "455      1\n",
       "280      1\n",
       "3932     1\n",
       "1060     1\n",
       "4664     1\n",
       "1159     1\n",
       "232      1\n",
       "1364     1\n",
       "1196     1\n",
       "446      1\n",
       "399      1\n",
       "535      1\n",
       "487      1\n",
       "Name: count, dtype: int64"
      ]
     },
     "execution_count": 332,
     "metadata": {},
     "output_type": "execute_result"
    }
   ],
   "source": [
    "df['#follows'].value_counts()"
   ]
  },
  {
   "cell_type": "markdown",
   "id": "27070de0-4c34-4f67-9764-ae6e2a79756e",
   "metadata": {},
   "source": [
    "# Group into ranges"
   ]
  },
  {
   "cell_type": "code",
   "execution_count": 335,
   "id": "1b81c1a9-aed9-418a-867b-9b2b119bd8fc",
   "metadata": {},
   "outputs": [
    {
     "name": "stdout",
     "output_type": "stream",
     "text": [
      "   profile pic  nums/length username  fullname words  nums/length fullname  \\\n",
      "0            1                  0.27               0                   0.0   \n",
      "1            1                  0.00               2                   0.0   \n",
      "2            1                  0.10               2                   0.0   \n",
      "3            1                  0.00               1                   0.0   \n",
      "4            1                  0.00               2                   0.0   \n",
      "\n",
      "   name==username  description length  external URL  private  #posts  \\\n",
      "0               0                  53             0        0      32   \n",
      "1               0                  44             0        0     286   \n",
      "2               0                   0             0        1      13   \n",
      "3               0                  82             0        0     679   \n",
      "4               0                   0             0        1       6   \n",
      "\n",
      "   #followers  #follows  fake username_num_ratio_cat fullname_num_ratio_cat  \\\n",
      "0        1000       955     0   Medium (Few numbers)       Low (No numbers)   \n",
      "1        2740       533     0       Low (No numbers)       Low (No numbers)   \n",
      "2         159        98     0   Medium (Few numbers)       Low (No numbers)   \n",
      "3         414       651     0       Low (No numbers)       Low (No numbers)   \n",
      "4         151       126     0       Low (No numbers)       Low (No numbers)   \n",
      "\n",
      "  bio_length_cat  post_count_cat follower_count_cat follows_count_cat  \n",
      "0         Medium  Moderate posts    Medium (101–1K)       High (>500)  \n",
      "1         Medium      Many posts         High (>1K)       High (>500)  \n",
      "2          Empty  Moderate posts    Medium (101–1K)      Low (11–100)  \n",
      "3         Medium      Many posts    Medium (101–1K)       High (>500)  \n",
      "4          Empty  Moderate posts    Medium (101–1K)  Medium (101–500)  \n"
     ]
    }
   ],
   "source": [
    "def follows_count_category(x):\n",
    "    if x <= 10:\n",
    "        return \"Very Low (0–10)\"\n",
    "    elif x <= 100:\n",
    "        return \"Low (11–100)\"\n",
    "    elif x <= 500:\n",
    "        return \"Medium (101–500)\"\n",
    "    else:\n",
    "        return \"High (>500)\"\n",
    "\n",
    "df['follows_count_cat'] = df['#follows'].apply(follows_count_category)\n",
    "print(df.head())"
   ]
  },
  {
   "cell_type": "raw",
   "id": "dbebd864-03eb-42fb-8c57-734904b9e336",
   "metadata": {},
   "source": [
    " Check fake/genuine distribution"
   ]
  },
  {
   "cell_type": "code",
   "execution_count": 337,
   "id": "8ec7fc8e-3c64-44e6-8dee-b9e1e5d60eac",
   "metadata": {},
   "outputs": [
    {
     "data": {
      "text/html": [
       "<div>\n",
       "<style scoped>\n",
       "    .dataframe tbody tr th:only-of-type {\n",
       "        vertical-align: middle;\n",
       "    }\n",
       "\n",
       "    .dataframe tbody tr th {\n",
       "        vertical-align: top;\n",
       "    }\n",
       "\n",
       "    .dataframe thead th {\n",
       "        text-align: right;\n",
       "    }\n",
       "</style>\n",
       "<table border=\"1\" class=\"dataframe\">\n",
       "  <thead>\n",
       "    <tr style=\"text-align: right;\">\n",
       "      <th>fake</th>\n",
       "      <th>0</th>\n",
       "      <th>1</th>\n",
       "    </tr>\n",
       "    <tr>\n",
       "      <th>follows_count_cat</th>\n",
       "      <th></th>\n",
       "      <th></th>\n",
       "    </tr>\n",
       "  </thead>\n",
       "  <tbody>\n",
       "    <tr>\n",
       "      <th>High (&gt;500)</th>\n",
       "      <td>75.000000</td>\n",
       "      <td>25.000000</td>\n",
       "    </tr>\n",
       "    <tr>\n",
       "      <th>Low (11–100)</th>\n",
       "      <td>18.518519</td>\n",
       "      <td>81.481481</td>\n",
       "    </tr>\n",
       "    <tr>\n",
       "      <th>Medium (101–500)</th>\n",
       "      <td>63.235294</td>\n",
       "      <td>36.764706</td>\n",
       "    </tr>\n",
       "    <tr>\n",
       "      <th>Very Low (0–10)</th>\n",
       "      <td>7.142857</td>\n",
       "      <td>92.857143</td>\n",
       "    </tr>\n",
       "  </tbody>\n",
       "</table>\n",
       "</div>"
      ],
      "text/plain": [
       "fake                       0          1\n",
       "follows_count_cat                      \n",
       "High (>500)        75.000000  25.000000\n",
       "Low (11–100)       18.518519  81.481481\n",
       "Medium (101–500)   63.235294  36.764706\n",
       "Very Low (0–10)     7.142857  92.857143"
      ]
     },
     "execution_count": 337,
     "metadata": {},
     "output_type": "execute_result"
    }
   ],
   "source": [
    "pd.crosstab(df['follows_count_cat'], df['fake'], normalize='index') * 100"
   ]
  },
  {
   "cell_type": "markdown",
   "id": "1ec9542b-e7d0-497c-bccd-1ab16db25974",
   "metadata": {},
   "source": [
    "# Visualize"
   ]
  },
  {
   "cell_type": "code",
   "execution_count": 340,
   "id": "fe342480-87d9-4064-832b-abdc9cefc594",
   "metadata": {},
   "outputs": [
    {
     "data": {
      "image/png": "[encoded data removed]",
      "text/plain": [
       "<Figure size 640x480 with 1 Axes>"
      ]
     },
     "metadata": {},
     "output_type": "display_data"
    }
   ],
   "source": [
    "sns.countplot(x='follows_count_cat', hue='fake', data=df)\n",
    "plt.title(\"Follows Count vs Fake/Genuine\")\n",
    "plt.xlabel(\"Follows Category\")\n",
    "plt.ylabel(\"Count\")\n",
    "plt.show()"
   ]
  },
  {
   "cell_type": "markdown",
   "id": "571ae632-2206-448a-b285-2dd461f16ec1",
   "metadata": {},
   "source": [
    "# Extra analysis (very useful)\n",
    "We can create a follows-to-followers ratio, which is a strong indicator of fake accounts."
   ]
  },
  {
   "cell_type": "code",
   "execution_count": 152,
   "id": "cc315018-dc9a-4532-8679-8f005323de82",
   "metadata": {},
   "outputs": [
    {
     "name": "stdout",
     "output_type": "stream",
     "text": [
      "   profile pic  nums/length username  fullname words  nums/length fullname  \\\n",
      "0            1                  0.27               0                   0.0   \n",
      "1            1                  0.00               2                   0.0   \n",
      "2            1                  0.10               2                   0.0   \n",
      "3            1                  0.00               1                   0.0   \n",
      "4            1                  0.00               2                   0.0   \n",
      "\n",
      "   name==username  description length  external URL  private  #posts  \\\n",
      "0               0                  53             0        0      32   \n",
      "1               0                  44             0        0     286   \n",
      "2               0                   0             0        1      13   \n",
      "3               0                  82             0        0     679   \n",
      "4               0                   0             0        1       6   \n",
      "\n",
      "   #followers  #follows  fake  post_count_cat username_num_ratio_cat  \\\n",
      "0        1000       955     0  Moderate posts   Medium (Few numbers)   \n",
      "1        2740       533     0      Many posts       Low (No numbers)   \n",
      "2         159        98     0  Moderate posts   Medium (Few numbers)   \n",
      "3         414       651     0      Many posts       Low (No numbers)   \n",
      "4         151       126     0  Moderate posts       Low (No numbers)   \n",
      "\n",
      "   username_num_ratio_cat_encoded bio_length_cat follower_count_cat  \\\n",
      "0                               2         Medium    Medium (101–1K)   \n",
      "1                               1         Medium         High (>1K)   \n",
      "2                               2          Empty    Medium (101–1K)   \n",
      "3                               1         Medium    Medium (101–1K)   \n",
      "4                               1          Empty    Medium (101–1K)   \n",
      "\n",
      "  follows_count_cat  follow_ratio  \n",
      "0       High (>500)      0.955045  \n",
      "1       High (>500)      0.194819  \n",
      "2      Low (11–100)      0.618750  \n",
      "3       High (>500)      1.571084  \n",
      "4  Medium (101–500)      0.835526  \n"
     ]
    }
   ],
   "source": [
    "df['follow_ratio'] = (df['#follows'] + 1) / (df['#followers'] + 1)\n",
    "print(df.head())"
   ]
  },
  {
   "cell_type": "raw",
   "id": "ff8aed4c-950f-441b-b1cf-adeb7dca6361",
   "metadata": {},
   "source": [
    " +1 to avoid division by zero\n",
    " High ratio(>5): (fake)Following way more people than follow them back.\n",
    " Low ratio(<1): (genuine)More followers than follows."
   ]
  },
  {
   "cell_type": "markdown",
   "id": "d42b77fe-8819-4ab9-b87d-3c763d08bbdc",
   "metadata": {},
   "source": [
    "# Final feature selection for X \n",
    "\n",
    "fake(Target variable): Dependent variable (y)                                       \n",
    "features(columns): Independent variables (X)"
   ]
  },
  {
   "cell_type": "code",
   "execution_count": 344,
   "id": "438e7fb3-daa6-4879-96ce-d06383f038f7",
   "metadata": {},
   "outputs": [
    {
     "ename": "KeyError",
     "evalue": "\"['follow_ratio'] not in index\"",
     "output_type": "error",
     "traceback": [
      "\u001b[1;31m---------------------------------------------------------------------------\u001b[0m",
      "\u001b[1;31mKeyError\u001b[0m                                  Traceback (most recent call last)",
      "Cell \u001b[1;32mIn[344], line 16\u001b[0m\n\u001b[0;32m      1\u001b[0m features \u001b[38;5;241m=\u001b[39m [\n\u001b[0;32m      2\u001b[0m     \u001b[38;5;124m'\u001b[39m\u001b[38;5;124mprofile pic\u001b[39m\u001b[38;5;124m'\u001b[39m,\n\u001b[0;32m      3\u001b[0m     \u001b[38;5;124m'\u001b[39m\u001b[38;5;124mnums/length username\u001b[39m\u001b[38;5;124m'\u001b[39m,\n\u001b[1;32m   (...)\u001b[0m\n\u001b[0;32m     13\u001b[0m     \u001b[38;5;124m'\u001b[39m\u001b[38;5;124mfollow_ratio\u001b[39m\u001b[38;5;124m'\u001b[39m\n\u001b[0;32m     14\u001b[0m ]\n\u001b[1;32m---> 16\u001b[0m X \u001b[38;5;241m=\u001b[39m df[features]\n\u001b[0;32m     17\u001b[0m y \u001b[38;5;241m=\u001b[39m df[\u001b[38;5;124m'\u001b[39m\u001b[38;5;124mfake\u001b[39m\u001b[38;5;124m'\u001b[39m]\n\u001b[0;32m     18\u001b[0m \u001b[38;5;28mprint\u001b[39m(X)\n",
      "File \u001b[1;32m~\\anaconda3\\Lib\\site-packages\\pandas\\core\\frame.py:4108\u001b[0m, in \u001b[0;36mDataFrame.__getitem__\u001b[1;34m(self, key)\u001b[0m\n\u001b[0;32m   4106\u001b[0m     \u001b[38;5;28;01mif\u001b[39;00m is_iterator(key):\n\u001b[0;32m   4107\u001b[0m         key \u001b[38;5;241m=\u001b[39m \u001b[38;5;28mlist\u001b[39m(key)\n\u001b[1;32m-> 4108\u001b[0m     indexer \u001b[38;5;241m=\u001b[39m \u001b[38;5;28mself\u001b[39m\u001b[38;5;241m.\u001b[39mcolumns\u001b[38;5;241m.\u001b[39m_get_indexer_strict(key, \u001b[38;5;124m\"\u001b[39m\u001b[38;5;124mcolumns\u001b[39m\u001b[38;5;124m\"\u001b[39m)[\u001b[38;5;241m1\u001b[39m]\n\u001b[0;32m   4110\u001b[0m \u001b[38;5;66;03m# take() does not accept boolean indexers\u001b[39;00m\n\u001b[0;32m   4111\u001b[0m \u001b[38;5;28;01mif\u001b[39;00m \u001b[38;5;28mgetattr\u001b[39m(indexer, \u001b[38;5;124m\"\u001b[39m\u001b[38;5;124mdtype\u001b[39m\u001b[38;5;124m\"\u001b[39m, \u001b[38;5;28;01mNone\u001b[39;00m) \u001b[38;5;241m==\u001b[39m \u001b[38;5;28mbool\u001b[39m:\n",
      "File \u001b[1;32m~\\anaconda3\\Lib\\site-packages\\pandas\\core\\indexes\\base.py:6200\u001b[0m, in \u001b[0;36mIndex._get_indexer_strict\u001b[1;34m(self, key, axis_name)\u001b[0m\n\u001b[0;32m   6197\u001b[0m \u001b[38;5;28;01melse\u001b[39;00m:\n\u001b[0;32m   6198\u001b[0m     keyarr, indexer, new_indexer \u001b[38;5;241m=\u001b[39m \u001b[38;5;28mself\u001b[39m\u001b[38;5;241m.\u001b[39m_reindex_non_unique(keyarr)\n\u001b[1;32m-> 6200\u001b[0m \u001b[38;5;28mself\u001b[39m\u001b[38;5;241m.\u001b[39m_raise_if_missing(keyarr, indexer, axis_name)\n\u001b[0;32m   6202\u001b[0m keyarr \u001b[38;5;241m=\u001b[39m \u001b[38;5;28mself\u001b[39m\u001b[38;5;241m.\u001b[39mtake(indexer)\n\u001b[0;32m   6203\u001b[0m \u001b[38;5;28;01mif\u001b[39;00m \u001b[38;5;28misinstance\u001b[39m(key, Index):\n\u001b[0;32m   6204\u001b[0m     \u001b[38;5;66;03m# GH 42790 - Preserve name from an Index\u001b[39;00m\n",
      "File \u001b[1;32m~\\anaconda3\\Lib\\site-packages\\pandas\\core\\indexes\\base.py:6252\u001b[0m, in \u001b[0;36mIndex._raise_if_missing\u001b[1;34m(self, key, indexer, axis_name)\u001b[0m\n\u001b[0;32m   6249\u001b[0m     \u001b[38;5;28;01mraise\u001b[39;00m \u001b[38;5;167;01mKeyError\u001b[39;00m(\u001b[38;5;124mf\u001b[39m\u001b[38;5;124m\"\u001b[39m\u001b[38;5;124mNone of [\u001b[39m\u001b[38;5;132;01m{\u001b[39;00mkey\u001b[38;5;132;01m}\u001b[39;00m\u001b[38;5;124m] are in the [\u001b[39m\u001b[38;5;132;01m{\u001b[39;00maxis_name\u001b[38;5;132;01m}\u001b[39;00m\u001b[38;5;124m]\u001b[39m\u001b[38;5;124m\"\u001b[39m)\n\u001b[0;32m   6251\u001b[0m not_found \u001b[38;5;241m=\u001b[39m \u001b[38;5;28mlist\u001b[39m(ensure_index(key)[missing_mask\u001b[38;5;241m.\u001b[39mnonzero()[\u001b[38;5;241m0\u001b[39m]]\u001b[38;5;241m.\u001b[39munique())\n\u001b[1;32m-> 6252\u001b[0m \u001b[38;5;28;01mraise\u001b[39;00m \u001b[38;5;167;01mKeyError\u001b[39;00m(\u001b[38;5;124mf\u001b[39m\u001b[38;5;124m\"\u001b[39m\u001b[38;5;132;01m{\u001b[39;00mnot_found\u001b[38;5;132;01m}\u001b[39;00m\u001b[38;5;124m not in index\u001b[39m\u001b[38;5;124m\"\u001b[39m)\n",
      "\u001b[1;31mKeyError\u001b[0m: \"['follow_ratio'] not in index\""
     ]
    }
   ],
   "source": [
    "features = [\n",
    "    'profile pic',\n",
    "    'nums/length username',\n",
    "    'fullname words',\n",
    "    'nums/length fullname',\n",
    "    'name==username',\n",
    "    'description length',\n",
    "    'external URL',\n",
    "    'private',\n",
    "    '#posts',\n",
    "    '#followers',\n",
    "    '#follows',\n",
    "    'follow_ratio'\n",
    "]\n",
    "\n",
    "X = df[features]\n",
    "y = df['fake']\n",
    "print(X)\n",
    "print(y)"
   ]
  },
  {
   "cell_type": "markdown",
   "id": "48212caf-782d-4479-9660-85fa0284b11f",
   "metadata": {},
   "source": [
    "# Train-test split"
   ]
  },
  {
   "cell_type": "code",
   "execution_count": null,
   "id": "213f5134-429f-4ccf-bb63-7a6956ec642c",
   "metadata": {},
   "outputs": [],
   "source": [
    "from sklearn.model_selection import train_test_split\n",
    "X_train, X_test, y_train, y_test = train_test_split(X, y, test_size=0.2, random_state=42, stratify=y)"
   ]
  },
  {
   "cell_type": "code",
   "execution_count": null,
   "id": "7d8664ec-8446-4707-9d48-3b423f703bef",
   "metadata": {},
   "outputs": [],
   "source": [
    "print(X_train)"
   ]
  },
  {
   "cell_type": "code",
   "execution_count": null,
   "id": "7f545248-018e-475c-8f4c-2222ec553e2d",
   "metadata": {},
   "outputs": [],
   "source": [
    "print(X_test)"
   ]
  },
  {
   "cell_type": "code",
   "execution_count": null,
   "id": "40694252-4594-4b84-b90a-ec904f9ec75a",
   "metadata": {},
   "outputs": [],
   "source": [
    "print(y_train)"
   ]
  },
  {
   "cell_type": "code",
   "execution_count": null,
   "id": "1487c08f-461e-481f-91cc-f7d55b29c19d",
   "metadata": {},
   "outputs": [],
   "source": [
    "print(y_test)"
   ]
  },
  {
   "cell_type": "markdown",
   "id": "97e0e4eb-ee30-430c-9164-16781252be05",
   "metadata": {},
   "source": [
    "# Choose the right model(RandomForestClassifier)\n",
    "\n",
    "binary classification (fake = 0 or 1)                       \n",
    "This is a bagging ensemble model that builds multiple decision trees and combines their votes for prediction.             \n",
    "Create the model object.                                  \n",
    "We initialize the classifier and set parameters."
   ]
  },
  {
   "cell_type": "code",
   "execution_count": 352,
   "id": "8df02b0e-798f-4b1f-9fc4-2758dcc75ad1",
   "metadata": {},
   "outputs": [],
   "source": [
    "from sklearn.ensemble import RandomForestClassifier\n",
    "rf = RandomForestClassifier(\n",
    "    n_estimators=100,      \n",
    "    random_state=42,        \n",
    "    class_weight='balanced' \n",
    ")"
   ]
  },
  {
   "cell_type": "markdown",
   "id": "c17c7f3a-8dc8-48a3-b155-41b22bc57ea8",
   "metadata": {},
   "source": [
    "# Fit (Train) the model\n",
    "\n",
    "call fit():"
   ]
  },
  {
   "cell_type": "code",
   "execution_count": 355,
   "id": "da9e8684-1c87-4d56-aadb-f4902c590f07",
   "metadata": {},
   "outputs": [
    {
     "data": {
      "text/html": [
       "<style>#sk-container-id-2 {\n",
       "  /* Definition of color scheme common for light and dark mode */\n",
       "  --sklearn-color-text: black;\n",
       "  --sklearn-color-line: gray;\n",
       "  /* Definition of color scheme for unfitted estimators */\n",
       "  --sklearn-color-unfitted-level-0: #fff5e6;\n",
       "  --sklearn-color-unfitted-level-1: #f6e4d2;\n",
       "  --sklearn-color-unfitted-level-2: #ffe0b3;\n",
       "  --sklearn-color-unfitted-level-3: chocolate;\n",
       "  /* Definition of color scheme for fitted estimators */\n",
       "  --sklearn-color-fitted-level-0: #f0f8ff;\n",
       "  --sklearn-color-fitted-level-1: #d4ebff;\n",
       "  --sklearn-color-fitted-level-2: #b3dbfd;\n",
       "  --sklearn-color-fitted-level-3: cornflowerblue;\n",
       "\n",
       "  /* Specific color for light theme */\n",
       "  --sklearn-color-text-on-default-background: var(--sg-text-color, var(--theme-code-foreground, var(--jp-content-font-color1, black)));\n",
       "  --sklearn-color-background: var(--sg-background-color, var(--theme-background, var(--jp-layout-color0, white)));\n",
       "  --sklearn-color-border-box: var(--sg-text-color, var(--theme-code-foreground, var(--jp-content-font-color1, black)));\n",
       "  --sklearn-color-icon: #696969;\n",
       "\n",
       "  @media (prefers-color-scheme: dark) {\n",
       "    /* Redefinition of color scheme for dark theme */\n",
       "    --sklearn-color-text-on-default-background: var(--sg-text-color, var(--theme-code-foreground, var(--jp-content-font-color1, white)));\n",
       "    --sklearn-color-background: var(--sg-background-color, var(--theme-background, var(--jp-layout-color0, #111)));\n",
       "    --sklearn-color-border-box: var(--sg-text-color, var(--theme-code-foreground, var(--jp-content-font-color1, white)));\n",
       "    --sklearn-color-icon: #878787;\n",
       "  }\n",
       "}\n",
       "\n",
       "#sk-container-id-2 {\n",
       "  color: var(--sklearn-color-text);\n",
       "}\n",
       "\n",
       "#sk-container-id-2 pre {\n",
       "  padding: 0;\n",
       "}\n",
       "\n",
       "#sk-container-id-2 input.sk-hidden--visually {\n",
       "  border: 0;\n",
       "  clip: rect(1px 1px 1px 1px);\n",
       "  clip: rect(1px, 1px, 1px, 1px);\n",
       "  height: 1px;\n",
       "  margin: -1px;\n",
       "  overflow: hidden;\n",
       "  padding: 0;\n",
       "  position: absolute;\n",
       "  width: 1px;\n",
       "}\n",
       "\n",
       "#sk-container-id-2 div.sk-dashed-wrapped {\n",
       "  border: 1px dashed var(--sklearn-color-line);\n",
       "  margin: 0 0.4em 0.5em 0.4em;\n",
       "  box-sizing: border-box;\n",
       "  padding-bottom: 0.4em;\n",
       "  background-color: var(--sklearn-color-background);\n",
       "}\n",
       "\n",
       "#sk-container-id-2 div.sk-container {\n",
       "  /* jupyter's `normalize.less` sets `[hidden] { display: none; }`\n",
       "     but bootstrap.min.css set `[hidden] { display: none !important; }`\n",
       "     so we also need the `!important` here to be able to override the\n",
       "     default hidden behavior on the sphinx rendered scikit-learn.org.\n",
       "     See: https://github.com/scikit-learn/scikit-learn/issues/21755 */\n",
       "  display: inline-block !important;\n",
       "  position: relative;\n",
       "}\n",
       "\n",
       "#sk-container-id-2 div.sk-text-repr-fallback {\n",
       "  display: none;\n",
       "}\n",
       "\n",
       "div.sk-parallel-item,\n",
       "div.sk-serial,\n",
       "div.sk-item {\n",
       "  /* draw centered vertical line to link estimators */\n",
       "  background-image: linear-gradient(var(--sklearn-color-text-on-default-background), var(--sklearn-color-text-on-default-background));\n",
       "  background-size: 2px 100%;\n",
       "  background-repeat: no-repeat;\n",
       "  background-position: center center;\n",
       "}\n",
       "\n",
       "/* Parallel-specific style estimator block */\n",
       "\n",
       "#sk-container-id-2 div.sk-parallel-item::after {\n",
       "  content: \"\";\n",
       "  width: 100%;\n",
       "  border-bottom: 2px solid var(--sklearn-color-text-on-default-background);\n",
       "  flex-grow: 1;\n",
       "}\n",
       "\n",
       "#sk-container-id-2 div.sk-parallel {\n",
       "  display: flex;\n",
       "  align-items: stretch;\n",
       "  justify-content: center;\n",
       "  background-color: var(--sklearn-color-background);\n",
       "  position: relative;\n",
       "}\n",
       "\n",
       "#sk-container-id-2 div.sk-parallel-item {\n",
       "  display: flex;\n",
       "  flex-direction: column;\n",
       "}\n",
       "\n",
       "#sk-container-id-2 div.sk-parallel-item:first-child::after {\n",
       "  align-self: flex-end;\n",
       "  width: 50%;\n",
       "}\n",
       "\n",
       "#sk-container-id-2 div.sk-parallel-item:last-child::after {\n",
       "  align-self: flex-start;\n",
       "  width: 50%;\n",
       "}\n",
       "\n",
       "#sk-container-id-2 div.sk-parallel-item:only-child::after {\n",
       "  width: 0;\n",
       "}\n",
       "\n",
       "/* Serial-specific style estimator block */\n",
       "\n",
       "#sk-container-id-2 div.sk-serial {\n",
       "  display: flex;\n",
       "  flex-direction: column;\n",
       "  align-items: center;\n",
       "  background-color: var(--sklearn-color-background);\n",
       "  padding-right: 1em;\n",
       "  padding-left: 1em;\n",
       "}\n",
       "\n",
       "\n",
       "/* Toggleable style: style used for estimator/Pipeline/ColumnTransformer box that is\n",
       "clickable and can be expanded/collapsed.\n",
       "- Pipeline and ColumnTransformer use this feature and define the default style\n",
       "- Estimators will overwrite some part of the style using the `sk-estimator` class\n",
       "*/\n",
       "\n",
       "/* Pipeline and ColumnTransformer style (default) */\n",
       "\n",
       "#sk-container-id-2 div.sk-toggleable {\n",
       "  /* Default theme specific background. It is overwritten whether we have a\n",
       "  specific estimator or a Pipeline/ColumnTransformer */\n",
       "  background-color: var(--sklearn-color-background);\n",
       "}\n",
       "\n",
       "/* Toggleable label */\n",
       "#sk-container-id-2 label.sk-toggleable__label {\n",
       "  cursor: pointer;\n",
       "  display: block;\n",
       "  width: 100%;\n",
       "  margin-bottom: 0;\n",
       "  padding: 0.5em;\n",
       "  box-sizing: border-box;\n",
       "  text-align: center;\n",
       "}\n",
       "\n",
       "#sk-container-id-2 label.sk-toggleable__label-arrow:before {\n",
       "  /* Arrow on the left of the label */\n",
       "  content: \"▸\";\n",
       "  float: left;\n",
       "  margin-right: 0.25em;\n",
       "  color: var(--sklearn-color-icon);\n",
       "}\n",
       "\n",
       "#sk-container-id-2 label.sk-toggleable__label-arrow:hover:before {\n",
       "  color: var(--sklearn-color-text);\n",
       "}\n",
       "\n",
       "/* Toggleable content - dropdown */\n",
       "\n",
       "#sk-container-id-2 div.sk-toggleable__content {\n",
       "  max-height: 0;\n",
       "  max-width: 0;\n",
       "  overflow: hidden;\n",
       "  text-align: left;\n",
       "  /* unfitted */\n",
       "  background-color: var(--sklearn-color-unfitted-level-0);\n",
       "}\n",
       "\n",
       "#sk-container-id-2 div.sk-toggleable__content.fitted {\n",
       "  /* fitted */\n",
       "  background-color: var(--sklearn-color-fitted-level-0);\n",
       "}\n",
       "\n",
       "#sk-container-id-2 div.sk-toggleable__content pre {\n",
       "  margin: 0.2em;\n",
       "  border-radius: 0.25em;\n",
       "  color: var(--sklearn-color-text);\n",
       "  /* unfitted */\n",
       "  background-color: var(--sklearn-color-unfitted-level-0);\n",
       "}\n",
       "\n",
       "#sk-container-id-2 div.sk-toggleable__content.fitted pre {\n",
       "  /* unfitted */\n",
       "  background-color: var(--sklearn-color-fitted-level-0);\n",
       "}\n",
       "\n",
       "#sk-container-id-2 input.sk-toggleable__control:checked~div.sk-toggleable__content {\n",
       "  /* Expand drop-down */\n",
       "  max-height: 200px;\n",
       "  max-width: 100%;\n",
       "  overflow: auto;\n",
       "}\n",
       "\n",
       "#sk-container-id-2 input.sk-toggleable__control:checked~label.sk-toggleable__label-arrow:before {\n",
       "  content: \"▾\";\n",
       "}\n",
       "\n",
       "/* Pipeline/ColumnTransformer-specific style */\n",
       "\n",
       "#sk-container-id-2 div.sk-label input.sk-toggleable__control:checked~label.sk-toggleable__label {\n",
       "  color: var(--sklearn-color-text);\n",
       "  background-color: var(--sklearn-color-unfitted-level-2);\n",
       "}\n",
       "\n",
       "#sk-container-id-2 div.sk-label.fitted input.sk-toggleable__control:checked~label.sk-toggleable__label {\n",
       "  background-color: var(--sklearn-color-fitted-level-2);\n",
       "}\n",
       "\n",
       "/* Estimator-specific style */\n",
       "\n",
       "/* Colorize estimator box */\n",
       "#sk-container-id-2 div.sk-estimator input.sk-toggleable__control:checked~label.sk-toggleable__label {\n",
       "  /* unfitted */\n",
       "  background-color: var(--sklearn-color-unfitted-level-2);\n",
       "}\n",
       "\n",
       "#sk-container-id-2 div.sk-estimator.fitted input.sk-toggleable__control:checked~label.sk-toggleable__label {\n",
       "  /* fitted */\n",
       "  background-color: var(--sklearn-color-fitted-level-2);\n",
       "}\n",
       "\n",
       "#sk-container-id-2 div.sk-label label.sk-toggleable__label,\n",
       "#sk-container-id-2 div.sk-label label {\n",
       "  /* The background is the default theme color */\n",
       "  color: var(--sklearn-color-text-on-default-background);\n",
       "}\n",
       "\n",
       "/* On hover, darken the color of the background */\n",
       "#sk-container-id-2 div.sk-label:hover label.sk-toggleable__label {\n",
       "  color: var(--sklearn-color-text);\n",
       "  background-color: var(--sklearn-color-unfitted-level-2);\n",
       "}\n",
       "\n",
       "/* Label box, darken color on hover, fitted */\n",
       "#sk-container-id-2 div.sk-label.fitted:hover label.sk-toggleable__label.fitted {\n",
       "  color: var(--sklearn-color-text);\n",
       "  background-color: var(--sklearn-color-fitted-level-2);\n",
       "}\n",
       "\n",
       "/* Estimator label */\n",
       "\n",
       "#sk-container-id-2 div.sk-label label {\n",
       "  font-family: monospace;\n",
       "  font-weight: bold;\n",
       "  display: inline-block;\n",
       "  line-height: 1.2em;\n",
       "}\n",
       "\n",
       "#sk-container-id-2 div.sk-label-container {\n",
       "  text-align: center;\n",
       "}\n",
       "\n",
       "/* Estimator-specific */\n",
       "#sk-container-id-2 div.sk-estimator {\n",
       "  font-family: monospace;\n",
       "  border: 1px dotted var(--sklearn-color-border-box);\n",
       "  border-radius: 0.25em;\n",
       "  box-sizing: border-box;\n",
       "  margin-bottom: 0.5em;\n",
       "  /* unfitted */\n",
       "  background-color: var(--sklearn-color-unfitted-level-0);\n",
       "}\n",
       "\n",
       "#sk-container-id-2 div.sk-estimator.fitted {\n",
       "  /* fitted */\n",
       "  background-color: var(--sklearn-color-fitted-level-0);\n",
       "}\n",
       "\n",
       "/* on hover */\n",
       "#sk-container-id-2 div.sk-estimator:hover {\n",
       "  /* unfitted */\n",
       "  background-color: var(--sklearn-color-unfitted-level-2);\n",
       "}\n",
       "\n",
       "#sk-container-id-2 div.sk-estimator.fitted:hover {\n",
       "  /* fitted */\n",
       "  background-color: var(--sklearn-color-fitted-level-2);\n",
       "}\n",
       "\n",
       "/* Specification for estimator info (e.g. \"i\" and \"?\") */\n",
       "\n",
       "/* Common style for \"i\" and \"?\" */\n",
       "\n",
       ".sk-estimator-doc-link,\n",
       "a:link.sk-estimator-doc-link,\n",
       "a:visited.sk-estimator-doc-link {\n",
       "  float: right;\n",
       "  font-size: smaller;\n",
       "  line-height: 1em;\n",
       "  font-family: monospace;\n",
       "  background-color: var(--sklearn-color-background);\n",
       "  border-radius: 1em;\n",
       "  height: 1em;\n",
       "  width: 1em;\n",
       "  text-decoration: none !important;\n",
       "  margin-left: 1ex;\n",
       "  /* unfitted */\n",
       "  border: var(--sklearn-color-unfitted-level-1) 1pt solid;\n",
       "  color: var(--sklearn-color-unfitted-level-1);\n",
       "}\n",
       "\n",
       ".sk-estimator-doc-link.fitted,\n",
       "a:link.sk-estimator-doc-link.fitted,\n",
       "a:visited.sk-estimator-doc-link.fitted {\n",
       "  /* fitted */\n",
       "  border: var(--sklearn-color-fitted-level-1) 1pt solid;\n",
       "  color: var(--sklearn-color-fitted-level-1);\n",
       "}\n",
       "\n",
       "/* On hover */\n",
       "div.sk-estimator:hover .sk-estimator-doc-link:hover,\n",
       ".sk-estimator-doc-link:hover,\n",
       "div.sk-label-container:hover .sk-estimator-doc-link:hover,\n",
       ".sk-estimator-doc-link:hover {\n",
       "  /* unfitted */\n",
       "  background-color: var(--sklearn-color-unfitted-level-3);\n",
       "  color: var(--sklearn-color-background);\n",
       "  text-decoration: none;\n",
       "}\n",
       "\n",
       "div.sk-estimator.fitted:hover .sk-estimator-doc-link.fitted:hover,\n",
       ".sk-estimator-doc-link.fitted:hover,\n",
       "div.sk-label-container:hover .sk-estimator-doc-link.fitted:hover,\n",
       ".sk-estimator-doc-link.fitted:hover {\n",
       "  /* fitted */\n",
       "  background-color: var(--sklearn-color-fitted-level-3);\n",
       "  color: var(--sklearn-color-background);\n",
       "  text-decoration: none;\n",
       "}\n",
       "\n",
       "/* Span, style for the box shown on hovering the info icon */\n",
       ".sk-estimator-doc-link span {\n",
       "  display: none;\n",
       "  z-index: 9999;\n",
       "  position: relative;\n",
       "  font-weight: normal;\n",
       "  right: .2ex;\n",
       "  padding: .5ex;\n",
       "  margin: .5ex;\n",
       "  width: min-content;\n",
       "  min-width: 20ex;\n",
       "  max-width: 50ex;\n",
       "  color: var(--sklearn-color-text);\n",
       "  box-shadow: 2pt 2pt 4pt #999;\n",
       "  /* unfitted */\n",
       "  background: var(--sklearn-color-unfitted-level-0);\n",
       "  border: .5pt solid var(--sklearn-color-unfitted-level-3);\n",
       "}\n",
       "\n",
       ".sk-estimator-doc-link.fitted span {\n",
       "  /* fitted */\n",
       "  background: var(--sklearn-color-fitted-level-0);\n",
       "  border: var(--sklearn-color-fitted-level-3);\n",
       "}\n",
       "\n",
       ".sk-estimator-doc-link:hover span {\n",
       "  display: block;\n",
       "}\n",
       "\n",
       "/* \"?\"-specific style due to the `<a>` HTML tag */\n",
       "\n",
       "#sk-container-id-2 a.estimator_doc_link {\n",
       "  float: right;\n",
       "  font-size: 1rem;\n",
       "  line-height: 1em;\n",
       "  font-family: monospace;\n",
       "  background-color: var(--sklearn-color-background);\n",
       "  border-radius: 1rem;\n",
       "  height: 1rem;\n",
       "  width: 1rem;\n",
       "  text-decoration: none;\n",
       "  /* unfitted */\n",
       "  color: var(--sklearn-color-unfitted-level-1);\n",
       "  border: var(--sklearn-color-unfitted-level-1) 1pt solid;\n",
       "}\n",
       "\n",
       "#sk-container-id-2 a.estimator_doc_link.fitted {\n",
       "  /* fitted */\n",
       "  border: var(--sklearn-color-fitted-level-1) 1pt solid;\n",
       "  color: var(--sklearn-color-fitted-level-1);\n",
       "}\n",
       "\n",
       "/* On hover */\n",
       "#sk-container-id-2 a.estimator_doc_link:hover {\n",
       "  /* unfitted */\n",
       "  background-color: var(--sklearn-color-unfitted-level-3);\n",
       "  color: var(--sklearn-color-background);\n",
       "  text-decoration: none;\n",
       "}\n",
       "\n",
       "#sk-container-id-2 a.estimator_doc_link.fitted:hover {\n",
       "  /* fitted */\n",
       "  background-color: var(--sklearn-color-fitted-level-3);\n",
       "}\n",
       "</style><div id=\"sk-container-id-2\" class=\"sk-top-container\"><div class=\"sk-text-repr-fallback\"><pre>RandomForestClassifier(class_weight=&#x27;balanced&#x27;, random_state=42)</pre><b>In a Jupyter environment, please rerun this cell to show the HTML representation or trust the notebook. <br />On GitHub, the HTML representation is unable to render, please try loading this page with nbviewer.org.</b></div><div class=\"sk-container\" hidden><div class=\"sk-item\"><div class=\"sk-estimator fitted sk-toggleable\"><input class=\"sk-toggleable__control sk-hidden--visually\" id=\"sk-estimator-id-2\" type=\"checkbox\" checked><label for=\"sk-estimator-id-2\" class=\"sk-toggleable__label fitted sk-toggleable__label-arrow fitted\">&nbsp;&nbsp;RandomForestClassifier<a class=\"sk-estimator-doc-link fitted\" rel=\"noreferrer\" target=\"_blank\" href=\"https://scikit-learn.org/1.5/modules/generated/sklearn.ensemble.RandomForestClassifier.html\">?<span>Documentation for RandomForestClassifier</span></a><span class=\"sk-estimator-doc-link fitted\">i<span>Fitted</span></span></label><div class=\"sk-toggleable__content fitted\"><pre>RandomForestClassifier(class_weight=&#x27;balanced&#x27;, random_state=42)</pre></div> </div></div></div></div>"
      ],
      "text/plain": [
       "RandomForestClassifier(class_weight='balanced', random_state=42)"
      ]
     },
     "execution_count": 355,
     "metadata": {},
     "output_type": "execute_result"
    }
   ],
   "source": [
    "rf.fit(X_train, y_train)"
   ]
  },
  {
   "cell_type": "raw",
   "id": "dc29694c-d54a-4871-9073-14059b18b08e",
   "metadata": {},
   "source": [
    " Store the trained model\n",
    " Now rf holds: All 100 trained decision trees.\n",
    " Trained model is stored in rf for predictions later."
   ]
  },
  {
   "cell_type": "code",
   "execution_count": 357,
   "id": "521da23f-d4c2-4b7a-a6fd-ce25608a21a6",
   "metadata": {},
   "outputs": [
    {
     "name": "stdout",
     "output_type": "stream",
     "text": [
      "Number of trees: 100\n"
     ]
    }
   ],
   "source": [
    "print(\"Number of trees:\", len(rf.estimators_))"
   ]
  },
  {
   "cell_type": "markdown",
   "id": "ef7218c2-fb96-4b2e-8eb3-e6a9222f0ecb",
   "metadata": {},
   "source": [
    "# Prediction in Random Forest"
   ]
  },
  {
   "cell_type": "code",
   "execution_count": 360,
   "id": "a743d55a-20e0-4ddc-9039-bb46f00a5f12",
   "metadata": {},
   "outputs": [
    {
     "name": "stdout",
     "output_type": "stream",
     "text": [
      "[1 1 0 1 1 1 0 0 1 1 0 0 0 1 1 0 1 1 0 1 1 1 0 1 0 0 1 0 0 1 0 0 0 1 1 0 1\n",
      " 1 1 0 1 0 1 0 1 1 0 0 1 0 0 0 1 0 0 0 1 0 0 0 1 0 1 0 1 0 1 1 0 0 0 0 1 1\n",
      " 1 1 1 0 1 0 1 1 0 1 0 1 1 0 1 0 1 0 0 0 0 1 0 1 1 0 1 0 1 0 1 0 1 1 1 0 1\n",
      " 0 0 1 0 1]\n"
     ]
    }
   ],
   "source": [
    "y_pred = rf.predict(X_test)\n",
    "print(y_pred)"
   ]
  },
  {
   "cell_type": "code",
   "execution_count": 362,
   "id": "867d41a5-7221-43f3-89e2-97665e1f4e89",
   "metadata": {},
   "outputs": [
    {
     "data": {
      "text/plain": [
       "(116,)"
      ]
     },
     "execution_count": 362,
     "metadata": {},
     "output_type": "execute_result"
    }
   ],
   "source": [
    "y_pred.shape"
   ]
  },
  {
   "cell_type": "markdown",
   "id": "cc0af3e8-0c7e-4b8f-a921-7668aec7ca0b",
   "metadata": {},
   "source": [
    "# Probability Prediction (predict_proba)\n",
    "Predicts the probability of being Fake or Genuine."
   ]
  },
  {
   "cell_type": "code",
   "execution_count": 181,
   "id": "e32b0ccc-85fa-49e2-96e9-15085840ebdd",
   "metadata": {
    "scrolled": true
   },
   "outputs": [
    {
     "name": "stdout",
     "output_type": "stream",
     "text": [
      "[[0.01 0.99]\n",
      " [0.   1.  ]\n",
      " [0.94 0.06]\n",
      " [0.   1.  ]\n",
      " [0.   1.  ]\n",
      " [0.   1.  ]\n",
      " [0.98 0.02]\n",
      " [1.   0.  ]\n",
      " [0.01 0.99]\n",
      " [0.41 0.59]\n",
      " [1.   0.  ]\n",
      " [0.74 0.26]\n",
      " [0.97 0.03]\n",
      " [0.17 0.83]\n",
      " [0.05 0.95]\n",
      " [0.83 0.17]\n",
      " [0.39 0.61]\n",
      " [0.15 0.85]\n",
      " [0.7  0.3 ]\n",
      " [0.   1.  ]\n",
      " [0.02 0.98]\n",
      " [0.08 0.92]\n",
      " [0.74 0.26]\n",
      " [0.   1.  ]\n",
      " [0.6  0.4 ]\n",
      " [0.96 0.04]\n",
      " [0.   1.  ]\n",
      " [0.63 0.37]\n",
      " [1.   0.  ]\n",
      " [0.25 0.75]\n",
      " [1.   0.  ]\n",
      " [1.   0.  ]\n",
      " [1.   0.  ]\n",
      " [0.   1.  ]\n",
      " [0.02 0.98]\n",
      " [0.99 0.01]\n",
      " [0.   1.  ]\n",
      " [0.   1.  ]\n",
      " [0.   1.  ]\n",
      " [0.92 0.08]\n",
      " [0.   1.  ]\n",
      " [1.   0.  ]\n",
      " [0.   1.  ]\n",
      " [0.95 0.05]\n",
      " [0.41 0.59]\n",
      " [0.02 0.98]\n",
      " [0.93 0.07]\n",
      " [0.74 0.26]\n",
      " [0.01 0.99]\n",
      " [0.8  0.2 ]\n",
      " [0.95 0.05]\n",
      " [0.99 0.01]\n",
      " [0.   1.  ]\n",
      " [0.82 0.18]\n",
      " [0.55 0.45]\n",
      " [0.9  0.1 ]\n",
      " [0.   1.  ]\n",
      " [0.93 0.07]\n",
      " [1.   0.  ]\n",
      " [0.97 0.03]\n",
      " [0.   1.  ]\n",
      " [0.81 0.19]\n",
      " [0.   1.  ]\n",
      " [0.97 0.03]\n",
      " [0.   1.  ]\n",
      " [0.98 0.02]\n",
      " [0.03 0.97]\n",
      " [0.15 0.85]\n",
      " [0.91 0.09]\n",
      " [0.97 0.03]\n",
      " [0.65 0.35]\n",
      " [0.96 0.04]\n",
      " [0.03 0.97]\n",
      " [0.01 0.99]\n",
      " [0.48 0.52]\n",
      " [0.03 0.97]\n",
      " [0.43 0.57]\n",
      " [0.92 0.08]\n",
      " [0.2  0.8 ]\n",
      " [1.   0.  ]\n",
      " [0.   1.  ]\n",
      " [0.03 0.97]\n",
      " [0.75 0.25]\n",
      " [0.   1.  ]\n",
      " [1.   0.  ]\n",
      " [0.03 0.97]\n",
      " [0.   1.  ]\n",
      " [0.98 0.02]\n",
      " [0.33 0.67]\n",
      " [1.   0.  ]\n",
      " [0.08 0.92]\n",
      " [0.99 0.01]\n",
      " [1.   0.  ]\n",
      " [0.94 0.06]\n",
      " [1.   0.  ]\n",
      " [0.13 0.87]\n",
      " [0.53 0.47]\n",
      " [0.   1.  ]\n",
      " [0.15 0.85]\n",
      " [0.99 0.01]\n",
      " [0.22 0.78]\n",
      " [0.83 0.17]\n",
      " [0.24 0.76]\n",
      " [0.91 0.09]\n",
      " [0.02 0.98]\n",
      " [0.87 0.13]\n",
      " [0.01 0.99]\n",
      " [0.05 0.95]\n",
      " [0.37 0.63]\n",
      " [1.   0.  ]\n",
      " [0.01 0.99]\n",
      " [0.97 0.03]\n",
      " [0.93 0.07]\n",
      " [0.01 0.99]\n",
      " [1.   0.  ]\n",
      " [0.01 0.99]]\n"
     ]
    }
   ],
   "source": [
    "y_proba = rf.predict_proba(X_test)\n",
    "print(y_proba)"
   ]
  },
  {
   "cell_type": "markdown",
   "id": "d20c2fb4-5736-4cdf-9837-83dba102e5ec",
   "metadata": {},
   "source": [
    "# Accuracy Score\n",
    "\n",
    "Measures the percentage of correct predictions."
   ]
  },
  {
   "cell_type": "code",
   "execution_count": 366,
   "id": "0bf8aeda-3340-409e-b298-fe51414a9618",
   "metadata": {},
   "outputs": [
    {
     "name": "stdout",
     "output_type": "stream",
     "text": [
      "Accuracy: 0.9224137931034483\n"
     ]
    }
   ],
   "source": [
    "from sklearn.metrics import accuracy_score\n",
    "accuracy = accuracy_score(y_test, y_pred)\n",
    "print(\"Accuracy:\", accuracy)"
   ]
  },
  {
   "cell_type": "markdown",
   "id": "83778f88-28e9-437c-a940-4a0121f8ac45",
   "metadata": {},
   "source": [
    "# Confusion Matrix\n",
    "\n",
    "Shows exactly how many predictions were correct and wrong."
   ]
  },
  {
   "cell_type": "code",
   "execution_count": 369,
   "id": "1180d71e-833a-466a-817e-a8b5fef05bfa",
   "metadata": {},
   "outputs": [
    {
     "name": "stdout",
     "output_type": "stream",
     "text": [
      "                   Predicted Genuine(0)  Predicted Fake(1)\n",
      "Actual Genuine(0)                    53                  5\n",
      "Actual Fake(1)                        4                 54\n"
     ]
    }
   ],
   "source": [
    "from sklearn.metrics import confusion_matrix\n",
    "cm = confusion_matrix(y_test, y_pred)\n",
    "cm_df = pd.DataFrame(cm, index=['Actual Genuine(0)', 'Actual Fake(1)'],\n",
    "                         columns=['Predicted Genuine(0)', 'Predicted Fake(1)'])\n",
    "print(cm_df)"
   ]
  },
  {
   "cell_type": "markdown",
   "id": "5c4c57a0-0cc0-4ed9-9d0e-ad1f74f7327c",
   "metadata": {},
   "source": [
    "# Classification Report\n",
    "\n",
    "Gives precision, recall, and F1-score.           \n",
    "Precision → When the model says “Fake”, how often is it correct?       \n",
    "Recall → Of all real Fake accounts, how many did the model catch?       \n",
    "F1-score → Balance between precision & recall.        \n",
    "Support → Number of samples in each class."
   ]
  },
  {
   "cell_type": "code",
   "execution_count": 372,
   "id": "63531182-e040-42e2-b3c7-b1e0343cb9ef",
   "metadata": {},
   "outputs": [
    {
     "name": "stdout",
     "output_type": "stream",
     "text": [
      "              precision    recall  f1-score   support\n",
      "\n",
      "           0       0.93      0.91      0.92        58\n",
      "           1       0.92      0.93      0.92        58\n",
      "\n",
      "    accuracy                           0.92       116\n",
      "   macro avg       0.92      0.92      0.92       116\n",
      "weighted avg       0.92      0.92      0.92       116\n",
      "\n"
     ]
    }
   ],
   "source": [
    "from sklearn.metrics import classification_report\n",
    "print(classification_report(y_test, y_pred))"
   ]
  },
  {
   "cell_type": "markdown",
   "id": "4c40c30d-8f60-4ff7-8394-d5d4c38bdeb8",
   "metadata": {},
   "source": [
    "# ROC Curve & AUC (Optional)\n",
    "\n",
    "Measures how well your model separates fake from genuine accounts."
   ]
  },
  {
   "cell_type": "code",
   "execution_count": 194,
   "id": "782b0e58-5b59-4d78-9ea3-f0b349cc7429",
   "metadata": {},
   "outputs": [
    {
     "name": "stdout",
     "output_type": "stream",
     "text": [
      "AUC Score: 0.9814209274673008\n"
     ]
    },
    {
     "data": {
      "image/png": "[encoded data removed]",
      "text/plain": [
       "<Figure size 640x480 with 1 Axes>"
      ]
     },
     "metadata": {},
     "output_type": "display_data"
    }
   ],
   "source": [
    "from sklearn.metrics import roc_auc_score, roc_curve\n",
    "\n",
    "y_proba = rf.predict_proba(X_test)[:, 1]\n",
    "auc = roc_auc_score(y_test, y_proba)\n",
    "print(\"AUC Score:\", auc)\n",
    "\n",
    "fpr, tpr, _ = roc_curve(y_test, y_proba)\n",
    "plt.plot(fpr, tpr, label=f\"AUC = {auc:.2f}\")\n",
    "plt.plot([0,1], [0,1], linestyle='--')\n",
    "plt.xlabel(\"False Positive Rate\")\n",
    "plt.ylabel(\"True Positive Rate\")\n",
    "plt.legend()\n",
    "plt.show()"
   ]
  },
  {
   "cell_type": "markdown",
   "id": "1ccef0e6-1a90-4aa8-9fbf-dd4c45c09e78",
   "metadata": {},
   "source": [
    "# Correlation Analysis\n",
    "\n",
    "The correlation analysis revealed that features like nums/length username and follow_ratio had the highest positive correlation with the Fake account label, indicating that fake accounts often have usernames with more numbers and unusual lengths, and unusual follower-following ratios.\n",
    "On the other hand, features like #posts, fullname words, and presence of external URL showed negative correlations, suggesting that genuine accounts tend to have more posts, more natural full names, and are more likely to have external links in their profile.\n",
    "This insight helped in identifying which features were more important for building the classification model."
   ]
  },
  {
   "cell_type": "markdown",
   "id": "a4c00271-73bc-45b8-b882-7ffd3f6b2ded",
   "metadata": {},
   "source": [
    "# Training Dataset Correlation with Target"
   ]
  },
  {
   "cell_type": "code",
   "execution_count": 377,
   "id": "35c940ba-6a37-43f6-9f45-beabeaa14d88",
   "metadata": {},
   "outputs": [
    {
     "name": "stdout",
     "output_type": "stream",
     "text": [
      "fake                    1.000000\n",
      "nums/length username    0.587687\n",
      "nums/length fullname    0.246782\n",
      "name==username          0.170695\n",
      "private                -0.028586\n",
      "#followers             -0.093689\n",
      "#follows               -0.224835\n",
      "#posts                 -0.245355\n",
      "fullname words         -0.298793\n",
      "external URL           -0.362809\n",
      "description length     -0.460825\n",
      "profile pic            -0.637315\n",
      "Name: fake, dtype: float64\n"
     ]
    }
   ],
   "source": [
    "corr = df.corr(numeric_only=True)['fake'].sort_values(ascending=False)\n",
    "print(corr)"
   ]
  },
  {
   "cell_type": "markdown",
   "id": "81a66d93-6269-4af4-a535-f438dac62562",
   "metadata": {},
   "source": [
    "# Final Conclusion\n",
    "\n",
    "1. Model Performance Summary             \n",
    "Example:            \n",
    "The final Random Forest model achieved an accuracy of 92%, precision of 92%, recall of 92%, and AUC is 0.9814209274673008 on the test dataset. This indicates that the model is effective in identifying fake accounts while minimizing false positives.                   \n",
    "\n",
    "B. Key Findings                \n",
    "Example:                 \n",
    "Fake accounts usually have no profile picture, fewer posts, and extreme follower/following ratios.              \n",
    "Usernames with a high proportion of numbers and unusual patterns are more common in fake accounts.                    \n",
    "Presence of a detailed bio and external link is more common in genuine accounts.                      \n",
    "\n",
    "C. Possible Applications                         \n",
    "Example:                          \n",
    "\n",
    "This model can be integrated into Instagram moderation tools to automatically flag suspicious accounts for manual review. Social media platforms can use such tools to improve user safety and reduce spam.                        \n",
    "\n",
    "D. Limitations                      \n",
    "Example:                                              \n",
    "The dataset size was relatively small, so results may vary on larger datasets.                      \n",
    "The model was trained on specific profile features and may not detect all types of fake accounts.                         \n",
    "Real-time deployment would require additional optimization.                   \n",
    "\n",
    "E. Future Improvements                 \n",
    "Example:                                            \n",
    "Include more profile activity data such as posting frequency and engagement rate.                             \n",
    "Incorporate NLP-based text analysis of bios and captions.                            \n",
    "Use deep learning image analysis to evaluate profile pictures.                                          "
   ]
  }
 ],
 "metadata": {
  "kernelspec": {
   "display_name": "Python 3 (ipykernel)",
   "language": "python",
   "name": "python3"
  },
  "language_info": {
   "codemirror_mode": {
    "name": "ipython",
    "version": 3
   },
   "file_extension": ".py",
   "mimetype": "text/x-python",
   "name": "python",
   "nbconvert_exporter": "python",
   "pygments_lexer": "ipython3",
   "version": "3.12.7"
  }
 },
 "nbformat": 4,
 "nbformat_minor": 5
}
